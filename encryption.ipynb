{
  "nbformat": 4,
  "nbformat_minor": 0,
  "metadata": {
    "colab": {
      "name": "encryption",
      "provenance": [],
      "collapsed_sections": [],
      "machine_shape": "hm",
      "include_colab_link": true
    },
    "kernelspec": {
      "name": "python3",
      "display_name": "Python 3"
    },
    "accelerator": "GPU"
  },
  "cells": [
    {
      "cell_type": "markdown",
      "metadata": {
        "id": "view-in-github",
        "colab_type": "text"
      },
      "source": [
        "<a href=\"https://colab.research.google.com/github/ParthikB/encryption/blob/master/encryption.ipynb\" target=\"_parent\"><img src=\"https://colab.research.google.com/assets/colab-badge.svg\" alt=\"Open In Colab\"/></a>"
      ]
    },
    {
      "cell_type": "code",
      "metadata": {
        "id": "Cq3NQIbFDKXD",
        "colab_type": "code",
        "outputId": "f5dbf41b-8a7b-414d-91ad-0483b4d6415e",
        "colab": {
          "base_uri": "https://localhost:8080/",
          "height": 35
        }
      },
      "source": [
        "from google.colab import drive\n",
        "drive.mount('/content/drive')"
      ],
      "execution_count": 0,
      "outputs": [
        {
          "output_type": "stream",
          "text": [
            "Drive already mounted at /content/drive; to attempt to forcibly remount, call drive.mount(\"/content/drive\", force_remount=True).\n"
          ],
          "name": "stdout"
        }
      ]
    },
    {
      "cell_type": "code",
      "metadata": {
        "id": "z2DW-OTrDLib",
        "colab_type": "code",
        "outputId": "5879ad78-b508-4c98-dc2f-45d4de82db2a",
        "colab": {
          "base_uri": "https://localhost:8080/",
          "height": 83
        }
      },
      "source": [
        "import tensorflow as tf\n",
        "from keras.preprocessing import image\n",
        "\n",
        "import numpy as np\n",
        "from tqdm import tqdm\n",
        "import cv2\n",
        "import matplotlib.pyplot as plt\n",
        "from PIL import Image"
      ],
      "execution_count": 0,
      "outputs": [
        {
          "output_type": "display_data",
          "data": {
            "text/html": [
              "<p style=\"color: red;\">\n",
              "The default version of TensorFlow in Colab will soon switch to TensorFlow 2.x.<br>\n",
              "We recommend you <a href=\"https://www.tensorflow.org/guide/migrate\" target=\"_blank\">upgrade</a> now \n",
              "or ensure your notebook will continue to use TensorFlow 1.x via the <code>%tensorflow_version 1.x</code> magic:\n",
              "<a href=\"https://colab.research.google.com/notebooks/tensorflow_version.ipynb\" target=\"_blank\">more info</a>.</p>\n"
            ],
            "text/plain": [
              "<IPython.core.display.HTML object>"
            ]
          },
          "metadata": {
            "tags": []
          }
        },
        {
          "output_type": "stream",
          "text": [
            "Using TensorFlow backend.\n"
          ],
          "name": "stderr"
        }
      ]
    },
    {
      "cell_type": "code",
      "metadata": {
        "id": "8jVoDTtLEO6L",
        "colab_type": "code",
        "colab": {}
      },
      "source": [
        "def loadImage(path_to_img):\n",
        "  # max_dim = 512\n",
        "  img2show = Image.open(path_to_img)\n",
        "  # long = max(img2show.size)\n",
        "  # scale = max_dim/long\n",
        "  # img = img2show.resize((round(img2show.size[0]*scale), round(img2show.size[1]*scale)), Image.ANTIALIAS)\n",
        "  \n",
        "  img = image.img_to_array(img2show)\n",
        "  img = cv2.cvtColor(img, cv2.COLOR_RGB2GRAY)\n",
        "  # We need to broadcast the image array such that it has a batch dimension \n",
        "  # img = np.expand_dims(img2show, axis=0)\n",
        "  return img2show, img"
      ],
      "execution_count": 0,
      "outputs": []
    },
    {
      "cell_type": "code",
      "metadata": {
        "id": "SiYN83oLEO9Z",
        "colab_type": "code",
        "colab": {}
      },
      "source": [
        "imgShow, imgArr = loadImage('/content/drive/My Drive/Colab Notebooks/encryption/image1.jpg')"
      ],
      "execution_count": 0,
      "outputs": []
    },
    {
      "cell_type": "code",
      "metadata": {
        "id": "d2zq1KEIFjHS",
        "colab_type": "code",
        "outputId": "5cf7a2b0-9f6d-4092-932c-8e2f84e62860",
        "colab": {
          "base_uri": "https://localhost:8080/",
          "height": 286
        }
      },
      "source": [
        "plt.imshow(imgArr, cmap='gray')"
      ],
      "execution_count": 0,
      "outputs": [
        {
          "output_type": "execute_result",
          "data": {
            "text/plain": [
              "<matplotlib.image.AxesImage at 0x7f3b3031e518>"
            ]
          },
          "metadata": {
            "tags": []
          },
          "execution_count": 40
        },
        {
          "output_type": "display_data",
          "data": {
            "image/png": "[encoded data removed]",
            "text/plain": [
              "<Figure size 432x288 with 1 Axes>"
            ]
          },
          "metadata": {
            "tags": []
          }
        }
      ]
    },
    {
      "cell_type": "code",
      "metadata": {
        "id": "0DqOFUldEa5L",
        "colab_type": "code",
        "outputId": "448d17e1-939e-4223-b057-3bc732bfce42",
        "colab": {
          "base_uri": "https://localhost:8080/",
          "height": 35
        }
      },
      "source": [
        "imgArr.shape"
      ],
      "execution_count": 0,
      "outputs": [
        {
          "output_type": "execute_result",
          "data": {
            "text/plain": [
              "(480, 640)"
            ]
          },
          "metadata": {
            "tags": []
          },
          "execution_count": 26
        }
      ]
    },
    {
      "cell_type": "code",
      "metadata": {
        "id": "NIKYLj8kIIqx",
        "colab_type": "code",
        "outputId": "ebf7e5a2-d306-4ea2-b8b0-25bb2c28ae4b",
        "colab": {
          "base_uri": "https://localhost:8080/",
          "height": 35
        }
      },
      "source": [
        "np.prod(imgArr.shape)"
      ],
      "execution_count": 0,
      "outputs": [
        {
          "output_type": "execute_result",
          "data": {
            "text/plain": [
              "307200"
            ]
          },
          "metadata": {
            "tags": []
          },
          "execution_count": 27
        }
      ]
    },
    {
      "cell_type": "code",
      "metadata": {
        "id": "fzq22yAkJ6wE",
        "colab_type": "code",
        "outputId": "4cfd594b-a43f-4ccf-8fb3-32ec3d0287c9",
        "colab": {
          "base_uri": "https://localhost:8080/",
          "height": 35
        }
      },
      "source": [
        "# Resizing the image as the RAM coudn't take it!\n",
        "\n",
        "height = imgArr.shape[0] // 4 \n",
        "width  = imgArr.shape[1] // 4\n",
        "\n",
        "imgArr = cv2.resize(imgArr, (width, height))\n",
        "np.prod(imgArr.shape)"
      ],
      "execution_count": 0,
      "outputs": [
        {
          "output_type": "execute_result",
          "data": {
            "text/plain": [
              "19200"
            ]
          },
          "metadata": {
            "tags": []
          },
          "execution_count": 6
        }
      ]
    },
    {
      "cell_type": "code",
      "metadata": {
        "id": "-z4QkwJoHvpP",
        "colab_type": "code",
        "colab": {}
      },
      "source": [
        "# Creating the input and output unrolled vectors (psst, both are the same!)\n",
        "y = yhat = imgArr.reshape(np.prod(imgArr.shape), -1)"
      ],
      "execution_count": 0,
      "outputs": []
    },
    {
      "cell_type": "code",
      "metadata": {
        "id": "JDchs5G5DazH",
        "colab_type": "code",
        "colab": {}
      },
      "source": [
        "def build_model():\n",
        "  model = tf.keras.Sequential([\n",
        "      # tf.keras.layers.Flatten(),\n",
        "      tf.keras.layers.Dense(19200, activation='relu'),\n",
        "      tf.keras.layers.Dense(19200, activation='relu'),\n",
        "      # tf.keras.layers.Dense(307200, activation='relu'),\n",
        "      # tf.keras.layers.Dense(307200, activation='relu')\n",
        "  ])\n",
        "\n",
        "  optimizer = tf.keras.optimizers.RMSprop(0.001)\n",
        "  \n",
        "  model.compile(loss='mse', optimizer='adam', metrics=['accuracy'])\n",
        "\n",
        "  return model"
      ],
      "execution_count": 0,
      "outputs": []
    },
    {
      "cell_type": "code",
      "metadata": {
        "id": "X2MY6fMYF802",
        "colab_type": "code",
        "colab": {}
      },
      "source": [
        "model = build_model()"
      ],
      "execution_count": 0,
      "outputs": []
    },
    {
      "cell_type": "code",
      "metadata": {
        "id": "g7DHm5GOIlWe",
        "colab_type": "code",
        "colab": {}
      },
      "source": [
        ""
      ],
      "execution_count": 0,
      "outputs": []
    },
    {
      "cell_type": "code",
      "metadata": {
        "id": "TNB-dKaXIlZZ",
        "colab_type": "code",
        "outputId": "3b6a3301-e0bd-41e3-a07d-c3d0b3a02e66",
        "colab": {
          "base_uri": "https://localhost:8080/",
          "height": 92
        }
      },
      "source": [
        "# Fitting the model\n",
        "\n",
        "EPOCHS = 10\n",
        "\n",
        "history = model.fit(\n",
        "  y, yhat,\n",
        "  epochs=EPOCHS, validation_split = 0.2, verbose=0)"
      ],
      "execution_count": 0,
      "outputs": [
        {
          "output_type": "stream",
          "text": [
            "WARNING:tensorflow:From /usr/local/lib/python3.6/dist-packages/tensorflow_core/python/ops/resource_variable_ops.py:1630: calling BaseResourceVariable.__init__ (from tensorflow.python.ops.resource_variable_ops) with constraint is deprecated and will be removed in a future version.\n",
            "Instructions for updating:\n",
            "If using Keras pass *_constraint arguments to layers.\n"
          ],
          "name": "stdout"
        }
      ]
    },
    {
      "cell_type": "code",
      "metadata": {
        "id": "0dvGNSGgIlcY",
        "colab_type": "code",
        "outputId": "d2801d1b-19a4-4915-d0ca-b6e66c84c1af",
        "colab": {
          "base_uri": "https://localhost:8080/",
          "height": 417
        }
      },
      "source": [
        "history.history"
      ],
      "execution_count": 0,
      "outputs": [
        {
          "output_type": "execute_result",
          "data": {
            "text/plain": [
              "{'acc': [0.0, 0.0, 0.0, 0.0, 0.0, 0.0, 0.0, 0.0, 0.0, 0.0],\n",
              " 'loss': [14499.816473388672,\n",
              "  14308.373864746094,\n",
              "  14307.765059407551,\n",
              "  14306.398834228516,\n",
              "  14301.036309814453,\n",
              "  14298.435756429037,\n",
              "  14295.353177897136,\n",
              "  14293.645141601562,\n",
              "  14291.706190999348,\n",
              "  12933.655470784504],\n",
              " 'val_acc': [0.0, 0.0, 0.0, 0.0, 0.0, 0.0, 0.0, 0.0, 0.0, 0.0],\n",
              " 'val_loss': [10678.863045247395,\n",
              "  10676.417464192707,\n",
              "  10676.417301432291,\n",
              "  10673.972526041667,\n",
              "  10670.305297851562,\n",
              "  10667.860538736979,\n",
              "  10666.638134765624,\n",
              "  10665.41572265625,\n",
              "  10661.74854329427,\n",
              "  7817.2320271809895]}"
            ]
          },
          "metadata": {
            "tags": []
          },
          "execution_count": 12
        }
      ]
    },
    {
      "cell_type": "code",
      "metadata": {
        "id": "sxoQE77OIlfJ",
        "colab_type": "code",
        "colab": {}
      },
      "source": [
        "# Predicting the output of the image\n",
        "output = model.predict(y)"
      ],
      "execution_count": 0,
      "outputs": []
    },
    {
      "cell_type": "code",
      "metadata": {
        "id": "NLndyd5sMy3B",
        "colab_type": "code",
        "outputId": "6994063d-8456-4372-b113-90507e283989",
        "colab": {
          "base_uri": "https://localhost:8080/",
          "height": 35
        }
      },
      "source": [
        "# WEIRD SHAPE? WHAT IS THIS????????????????????????\n",
        "output.shape"
      ],
      "execution_count": 0,
      "outputs": [
        {
          "output_type": "execute_result",
          "data": {
            "text/plain": [
              "(19200, 19200)"
            ]
          },
          "metadata": {
            "tags": []
          },
          "execution_count": 28
        }
      ]
    },
    {
      "cell_type": "code",
      "metadata": {
        "id": "6dJSv6uINCA8",
        "colab_type": "code",
        "colab": {}
      },
      "source": [
        "# Anyways, we'll take the first dimension of the output\n",
        "\n",
        "# Resizing into a 2D Matrix, basically converting it into image dimensions!\n",
        "oImage = cv2.resize(output[0], (width, height))"
      ],
      "execution_count": 0,
      "outputs": []
    },
    {
      "cell_type": "code",
      "metadata": {
        "id": "tIJaeWf5OMyu",
        "colab_type": "code",
        "outputId": "b009ced2-87b9-4c33-d198-1dcfa3aab6cb",
        "colab": {
          "base_uri": "https://localhost:8080/",
          "height": 286
        }
      },
      "source": [
        "# Plotting\n",
        "plt.gray()\n",
        "plt.imshow(oImage)"
      ],
      "execution_count": 0,
      "outputs": [
        {
          "output_type": "execute_result",
          "data": {
            "text/plain": [
              "<matplotlib.image.AxesImage at 0x7f9c72082710>"
            ]
          },
          "metadata": {
            "tags": []
          },
          "execution_count": 27
        },
        {
          "output_type": "display_data",
          "data": {
            "image/png": "[encoded data removed]",
            "text/plain": [
              "<Figure size 432x288 with 1 Axes>"
            ]
          },
          "metadata": {
            "tags": []
          }
        }
      ]
    },
    {
      "cell_type": "code",
      "metadata": {
        "id": "oGwNcHHwPPGl",
        "colab_type": "code",
        "colab": {}
      },
      "source": [
        "'''\n",
        "NOTES:\n",
        "\n",
        "  > Find out what is that weird shape of the output!\n",
        "  > The final image has to be approximately the same, not this strange lines. Fix this.\n",
        "  > Try implementing this in PyTorch. That would be a lot easier to manipulate!\n",
        "\n",
        "'''"
      ],
      "execution_count": 0,
      "outputs": []
    }
  ]
}