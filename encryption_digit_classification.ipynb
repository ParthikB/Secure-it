{
  "nbformat": 4,
  "nbformat_minor": 0,
  "metadata": {
    "kernelspec": {
      "name": "python3",
      "display_name": "Python 3"
    },
    "language_info": {
      "codemirror_mode": {
        "name": "ipython",
        "version": 3
      },
      "file_extension": ".py",
      "mimetype": "text/x-python",
      "name": "python",
      "nbconvert_exporter": "python",
      "pygments_lexer": "ipython3",
      "version": "3.7.5"
    },
    "colab": {
      "name": "encryption-digit_classification",
      "provenance": [],
      "collapsed_sections": [
        "i7t6hElpbRxY"
      ],
      "include_colab_link": true
    },
    "accelerator": "GPU"
  },
  "cells": [
    {
      "cell_type": "markdown",
      "metadata": {
        "id": "view-in-github",
        "colab_type": "text"
      },
      "source": [
        "<a href=\"https://colab.research.google.com/github/ParthikB/encryption/blob/master/encryption_digit_classification.ipynb\" target=\"_parent\"><img src=\"https://colab.research.google.com/assets/colab-badge.svg\" alt=\"Open In Colab\"/></a>"
      ]
    },
    {
      "cell_type": "code",
      "metadata": {
        "id": "tGzlLgp2bRxG",
        "colab_type": "code",
        "colab": {
          "base_uri": "https://localhost:8080/",
          "height": 34
        },
        "outputId": "397f562c-1474-4121-e325-373f6ff62d88"
      },
      "source": [
        "import torch\n",
        "import torchvision\n",
        "from torchvision import transforms, datasets\n",
        "import torch.nn as nn\n",
        "import torch.nn.functional as F\n",
        "import torch.optim as optim\n",
        "\n",
        "import numpy as np\n",
        "from tqdm import tqdm\n",
        "import matplotlib.pyplot as plt\n",
        "\n",
        "if torch.cuda.is_available():\n",
        "  device = torch.device('cuda:0')\n",
        "  running = 'GPU'\n",
        "else:\n",
        "  device = torch.device('cpu')\n",
        "  running = 'CPU'\n",
        "print(f'Running on : {running}')"
      ],
      "execution_count": 39,
      "outputs": [
        {
          "output_type": "stream",
          "text": [
            "Running on : GPU\n"
          ],
          "name": "stdout"
        }
      ]
    },
    {
      "cell_type": "markdown",
      "metadata": {
        "id": "S6uqFasbbRxL",
        "colab_type": "text"
      },
      "source": [
        "### Grabbing the Data"
      ]
    },
    {
      "cell_type": "code",
      "metadata": {
        "id": "wCDty-_hbRxM",
        "colab_type": "code",
        "colab": {}
      },
      "source": [
        "train = datasets.MNIST('', train=True, download=True,\n",
        "                      transform=transforms.Compose([transforms.ToTensor()]))\n",
        "\n",
        "test  = datasets.MNIST('', train=False, download=True,\n",
        "                      transform=transforms.Compose([transforms.ToTensor()]))"
      ],
      "execution_count": 0,
      "outputs": []
    },
    {
      "cell_type": "markdown",
      "metadata": {
        "id": "IZJw796EbRxP",
        "colab_type": "text"
      },
      "source": [
        "## Creating the Dataset Tensor"
      ]
    },
    {
      "cell_type": "code",
      "metadata": {
        "id": "F8rmkEOYbRxQ",
        "colab_type": "code",
        "colab": {}
      },
      "source": [
        "BATCH_SIZE = 32\n",
        "HEIGHT, WIDTH = 28\n",
        "TOTAL_PIXELS = HEIGHT*WIDTH\n",
        "\n",
        "trainSet = torch.utils.data.DataLoader(train, batch_size=BATCH_SIZE, shuffle=True)\n",
        "testSet  = torch.utils.data.DataLoader(test,  batch_size=BATCH_SIZE, shuffle=True)"
      ],
      "execution_count": 0,
      "outputs": []
    },
    {
      "cell_type": "markdown",
      "metadata": {
        "id": "dvxkniYIbRxT",
        "colab_type": "text"
      },
      "source": [
        "#### Viewing one Sample"
      ]
    },
    {
      "cell_type": "code",
      "metadata": {
        "id": "anjzu7XMbRxT",
        "colab_type": "code",
        "outputId": "30feb16a-6b3f-4978-e209-aa9e8d121e51",
        "colab": {
          "base_uri": "https://localhost:8080/",
          "height": 218
        }
      },
      "source": [
        "i = 0 # ranging from 0-9\n",
        "for data in trainSet:\n",
        "    # data --> one batch containing 32 samples\n",
        "    x, y = data[0][i], data[1][i]\n",
        "\n",
        "plt.subplot(1, 2, 1)\n",
        "plt.imshow(x.view(HEIGHT, WIDTH)) # Reshaping x from (1, Height, Width) --> (Height, Width)\n",
        "\n",
        "plt.subplot(1, 2, 2)\n",
        "plt.imshow(x.view(HEIGHT, WIDTH), cmap='gray')"
      ],
      "execution_count": 71,
      "outputs": [
        {
          "output_type": "execute_result",
          "data": {
            "text/plain": [
              "<matplotlib.image.AxesImage at 0x7f40e0b6ac88>"
            ]
          },
          "metadata": {
            "tags": []
          },
          "execution_count": 71
        },
        {
          "output_type": "display_data",
          "data": {
            "image/png": "[encoded data removed]",
            "text/plain": [
              "<Figure size 432x288 with 2 Axes>"
            ]
          },
          "metadata": {
            "tags": []
          }
        }
      ]
    },
    {
      "cell_type": "markdown",
      "metadata": {
        "id": "i7t6hElpbRxY",
        "colab_type": "text"
      },
      "source": [
        "### Checking the Balancing of the Data"
      ]
    },
    {
      "cell_type": "code",
      "metadata": {
        "id": "UNMBqRChbRxY",
        "colab_type": "code",
        "outputId": "82ebbb84-12ca-4bac-ae28-c9d5110351d3",
        "colab": {
          "base_uri": "https://localhost:8080/",
          "height": 296
        }
      },
      "source": [
        "total = 0\n",
        "counter = {0:0, 1:0, 2:0, 3:0, 4:0, 5:0, 6:0, 7:0, 8:0, 9:0}\n",
        "\n",
        "for data in trainSet:\n",
        "        y = data[1]\n",
        "        for sample in y:\n",
        "            counter[int(sample)] += 1\n",
        "            total += 1\n",
        "            \n",
        "for key in counter:\n",
        "    percentage = round(counter[key]/total * 100, 2)\n",
        "    counter[key] = percentage\n",
        "\n",
        "x = [key for key in counter]\n",
        "y = [counter[key] for key in counter]\n",
        "plt.bar(x, y)\n",
        "plt.xlabel('Labels')\n",
        "plt.ylabel('Percentage')\n",
        "\n",
        "# The Data is BALANCED"
      ],
      "execution_count": 0,
      "outputs": [
        {
          "output_type": "execute_result",
          "data": {
            "text/plain": [
              "Text(0, 0.5, 'Percentage')"
            ]
          },
          "metadata": {
            "tags": []
          },
          "execution_count": 6
        },
        {
          "output_type": "display_data",
          "data": {
            "image/png": "[encoded data removed]",
            "text/plain": [
              "<Figure size 432x288 with 1 Axes>"
            ]
          },
          "metadata": {
            "tags": []
          }
        }
      ]
    },
    {
      "cell_type": "markdown",
      "metadata": {
        "id": "NlzMrR2abRxa",
        "colab_type": "text"
      },
      "source": [
        "## Creating the Network Structure"
      ]
    },
    {
      "cell_type": "code",
      "metadata": {
        "id": "DQofOoyhbRxb",
        "colab_type": "code",
        "colab": {}
      },
      "source": [
        "class Net(nn.Module):\n",
        "    \n",
        "    def __init__(self):\n",
        "        super().__init__()\n",
        "        \n",
        "        self.fc1 = nn.Linear(28*28, 64)\n",
        "        self.fc2 = nn.Linear(64,    64)        \n",
        "        self.fc3 = nn.Linear(64,    64)        \n",
        "        self.fc4 = nn.Linear(64,    28*28)        \n",
        "    \n",
        "    def forward(self, x):\n",
        "        x = F.sigmoid(self.fc1(x))\n",
        "        x2 = F.sigmoid(self.fc2(x))        \n",
        "        x = F.sigmoid(self.fc3(x2))        \n",
        "        x = F.sigmoid(self.fc4(x))\n",
        "        \n",
        "        return x, x2"
      ],
      "execution_count": 0,
      "outputs": []
    },
    {
      "cell_type": "markdown",
      "metadata": {
        "id": "i_IXXR_2bRxd",
        "colab_type": "text"
      },
      "source": [
        "## Training the Network"
      ]
    },
    {
      "cell_type": "code",
      "metadata": {
        "id": "g-4f9BjHbRxe",
        "colab_type": "code",
        "outputId": "9fded5c4-9baa-468d-e9d5-b1b0ab51e709",
        "colab": {
          "base_uri": "https://localhost:8080/",
          "height": 221
        }
      },
      "source": [
        "LEARNING_RATE = 0.001 #1e-3\n",
        "EPOCHS        = 5\n",
        "\n",
        "net = Net().to(device)\n",
        "\n",
        "loss_function = nn.CrossEntropyLoss()\n",
        "# Define Optimizer\n",
        "optimizer = optim.Adam(net.parameters(), lr=LEARNING_RATE)\n",
        "\n",
        "loss_log = []\n",
        "# Iteration Begins\n",
        "for epoch in range(EPOCHS):\n",
        "    print('EPOCH :', epoch+1)\n",
        "    # Iterate over every sample in the batch\n",
        "    for data in tqdm(trainSet):\n",
        "        x.to(device), y.to(device) = data\n",
        "        net.zero_grad()\n",
        "        \n",
        "        #Compute the output\n",
        "        output, layer2 = net(x.view(-1, TOTAL_PIXELS))\n",
        "        \n",
        "        # Compute Loss\n",
        "        loss = F.smooth_l1_loss(output, x.view(-1, TOTAL_PIXELS))\n",
        "        loss_log.append(loss)\n",
        "        # Backpropagate\n",
        "        loss.backward()\n",
        "        \n",
        "        # Update Parameters\n",
        "        optimizer.step()\n",
        "        \n",
        "    # print(loss)\n",
        "plt.plot(loss_log)\n",
        "plt.title('Loss')\n",
        "plt.grid(1)"
      ],
      "execution_count": 38,
      "outputs": [
        {
          "output_type": "stream",
          "text": [
            "  0%|          | 0/1875 [00:00<?, ?it/s]/usr/local/lib/python3.6/dist-packages/torch/nn/functional.py:1351: UserWarning: nn.functional.sigmoid is deprecated. Use torch.sigmoid instead.\n",
            "  warnings.warn(\"nn.functional.sigmoid is deprecated. Use torch.sigmoid instead.\")\n",
            "  1%|          | 15/1875 [00:00<00:12, 145.02it/s]"
          ],
          "name": "stderr"
        },
        {
          "output_type": "stream",
          "text": [
            "EPOCH : 1\n"
          ],
          "name": "stdout"
        },
        {
          "output_type": "stream",
          "text": [
            "100%|██████████| 1875/1875 [00:12<00:00, 148.75it/s]\n",
            "  1%|          | 15/1875 [00:00<00:12, 145.96it/s]"
          ],
          "name": "stderr"
        },
        {
          "output_type": "stream",
          "text": [
            "EPOCH : 2\n"
          ],
          "name": "stdout"
        },
        {
          "output_type": "stream",
          "text": [
            "100%|██████████| 1875/1875 [00:12<00:00, 145.20it/s]\n",
            "  1%|          | 15/1875 [00:00<00:12, 147.10it/s]"
          ],
          "name": "stderr"
        },
        {
          "output_type": "stream",
          "text": [
            "EPOCH : 3\n"
          ],
          "name": "stdout"
        },
        {
          "output_type": "stream",
          "text": [
            "100%|██████████| 1875/1875 [00:12<00:00, 146.55it/s]\n",
            "  1%|          | 15/1875 [00:00<00:12, 148.18it/s]"
          ],
          "name": "stderr"
        },
        {
          "output_type": "stream",
          "text": [
            "EPOCH : 4\n"
          ],
          "name": "stdout"
        },
        {
          "output_type": "stream",
          "text": [
            "100%|██████████| 1875/1875 [00:12<00:00, 145.05it/s]\n",
            "  1%|          | 15/1875 [00:00<00:13, 140.19it/s]"
          ],
          "name": "stderr"
        },
        {
          "output_type": "stream",
          "text": [
            "EPOCH : 5\n"
          ],
          "name": "stdout"
        },
        {
          "output_type": "stream",
          "text": [
            "100%|██████████| 1875/1875 [00:12<00:00, 144.78it/s]\n"
          ],
          "name": "stderr"
        }
      ]
    },
    {
      "cell_type": "markdown",
      "metadata": {
        "id": "359B323pdx2V",
        "colab_type": "text"
      },
      "source": [
        "## Accuracy Check"
      ]
    },
    {
      "cell_type": "code",
      "metadata": {
        "id": "EmoiIGiobRxg",
        "colab_type": "code",
        "colab": {}
      },
      "source": [
        "correct, total = 0, 0\n",
        "\n",
        "with torch.no_grad():\n",
        "    for data in trainSet:\n",
        "        x, y = data\n",
        "        output, _ = net(x.view(-1, 28*28))\n",
        "        \n",
        "        for idx, i in enumerate(output):\n",
        "            if i == x[idx].view(-1, 28*28):\n",
        "                correct += 1\n",
        "            total += 1\n",
        "    trainAccuracy = round(correct/total *100, 2)\n",
        "    \n",
        "    for data in testSet:\n",
        "        x, y = data\n",
        "        output, _ = net(x.view(-1, 28*28))\n",
        "        \n",
        "        for idx, i in enumerate(output):\n",
        "            if i == x[idx].view(-1, 28*28):\n",
        "                correct += 1\n",
        "            total += 1\n",
        "    testAccuracy = round(correct/total *100, 2)\n",
        "    \n",
        "print('Train Accuracy :', trainAccuracy, '%')\n",
        "print('Test Accuracy  :', testAccuracy, '%')"
      ],
      "execution_count": 0,
      "outputs": []
    },
    {
      "cell_type": "markdown",
      "metadata": {
        "id": "UPZdwqT0d1rM",
        "colab_type": "text"
      },
      "source": [
        "## Output Check"
      ]
    },
    {
      "cell_type": "code",
      "metadata": {
        "id": "w1rpETnebRxi",
        "colab_type": "code",
        "colab": {
          "base_uri": "https://localhost:8080/",
          "height": 233
        },
        "outputId": "859a88a8-cff9-4369-8c97-5d77e28df746"
      },
      "source": [
        "plt.subplot(1, 2, 1)\n",
        "plt.imshow(i.view(28, 28))\n",
        "plt.title('Output')\n",
        "\n",
        "plt.subplot(1, 2, 2)\n",
        "plt.imshow(x[0].view(28, 28))\n",
        "plt.title('Input')"
      ],
      "execution_count": 44,
      "outputs": [
        {
          "output_type": "execute_result",
          "data": {
            "text/plain": [
              "Text(0.5, 1.0, 'Input')"
            ]
          },
          "metadata": {
            "tags": []
          },
          "execution_count": 44
        },
        {
          "output_type": "display_data",
          "data": {
            "image/png": "[encoded data removed]",
            "text/plain": [
              "<Figure size 432x288 with 2 Axes>"
            ]
          },
          "metadata": {
            "tags": []
          }
        }
      ]
    },
    {
      "cell_type": "code",
      "metadata": {
        "id": "ZINip3UEe--t",
        "colab_type": "code",
        "colab": {
          "base_uri": "https://localhost:8080/",
          "height": 297
        },
        "outputId": "dcbb6b55-f267-4b72-8365-b2dfbcb6dc29"
      },
      "source": [
        "# Selecting a random sample from the dataset\n",
        "random = np.random.randint(32)\n",
        "\n",
        "for data in trainSet:\n",
        "  # print(data)\n",
        "  sample = data[0][random].view(HEIGHT, WIDTH)\n",
        "  break\n",
        "\n",
        "\n",
        "# Passing the sample through the Network and also generating the ENCYPTED IMAGE\n",
        "with torch.no_grad():\n",
        "    # for data in trainSet:\n",
        "        x = sample\n",
        "        testOutput, encryptedImage = net(x.view(-1, TOTAL_PIXELS))\n",
        "\n",
        "\n",
        "# Converting the tensor into numpy array and reshaping from VECTOR to 2D MATRIX\n",
        "# trainOutput = trainOutput.view(HEIGHT, WIDTH)\n",
        "# trainOutput = trainOutput.detach().numpy()*255\n",
        "\n",
        "testOutput  = testOutput.view(HEIGHT, WIDTH)\n",
        "testOutput  = testOutput.detach().numpy()*255\n",
        "\n",
        "encryptedImage  = encryptedImage.view(8, 8)\n",
        "encryptedImage  = encryptedImage.detach().numpy()*255\n",
        "\n",
        "\n",
        "# DECRYPTING THE IMAGE\n",
        "with torch.no_grad():\n",
        "  x = F.sigmoid(net.fc3((torch.tensor(encryptedImage)).view(-1, 64)))\n",
        "  # x = F.sigmoid(net.fc3((torch.rand(1, 64))))\n",
        "  x = F.sigmoid(net.fc4(x))\n",
        "\n",
        "decryptedImage = x.view(28, 28).detach().numpy()*255\n",
        "\n",
        "\n",
        "# PLOTTING THE OUTPUTS\n",
        "plt.figure(figsize=(15, 5))\n",
        "\n",
        "plt.subplot(1, 4, 1)\n",
        "plt.imshow(sample)\n",
        "plt.title('Input Image')\n",
        "\n",
        "plt.subplot(1, 4, 2)\n",
        "plt.imshow(testOutput)\n",
        "plt.title('Output Image')\n",
        "\n",
        "plt.subplot(1, 4, 3)\n",
        "plt.imshow(encryptedImage)\n",
        "plt.title('Encrypted Image')\n",
        "\n",
        "plt.subplot(1, 4, 4)\n",
        "plt.imshow(decryptedImage)\n",
        "plt.title('Decypted Image')"
      ],
      "execution_count": 90,
      "outputs": [
        {
          "output_type": "stream",
          "text": [
            "/usr/local/lib/python3.6/dist-packages/torch/nn/functional.py:1351: UserWarning: nn.functional.sigmoid is deprecated. Use torch.sigmoid instead.\n",
            "  warnings.warn(\"nn.functional.sigmoid is deprecated. Use torch.sigmoid instead.\")\n"
          ],
          "name": "stderr"
        },
        {
          "output_type": "execute_result",
          "data": {
            "text/plain": [
              "Text(0.5, 1.0, 'Decypted Image')"
            ]
          },
          "metadata": {
            "tags": []
          },
          "execution_count": 90
        },
        {
          "output_type": "display_data",
          "data": {
            "image/png": "[encoded data removed]",
            "text/plain": [
              "<Figure size 1080x360 with 4 Axes>"
            ]
          },
          "metadata": {
            "tags": []
          }
        }
      ]
    },
    {
      "cell_type": "code",
      "metadata": {
        "id": "jl17sWuuie9b",
        "colab_type": "code",
        "colab": {}
      },
      "source": [
        ""
      ],
      "execution_count": 0,
      "outputs": []
    }
  ]
}