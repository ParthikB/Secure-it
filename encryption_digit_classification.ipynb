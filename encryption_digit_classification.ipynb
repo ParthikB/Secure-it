{
  "nbformat": 4,
  "nbformat_minor": 0,
  "metadata": {
    "kernelspec": {
      "name": "python3",
      "display_name": "Python 3"
    },
    "language_info": {
      "codemirror_mode": {
        "name": "ipython",
        "version": 3
      },
      "file_extension": ".py",
      "mimetype": "text/x-python",
      "name": "python",
      "nbconvert_exporter": "python",
      "pygments_lexer": "ipython3",
      "version": "3.7.5"
    },
    "colab": {
      "name": "encryption-digit_classification",
      "provenance": [],
      "collapsed_sections": [],
      "include_colab_link": true
    },
    "accelerator": "GPU"
  },
  "cells": [
    {
      "cell_type": "markdown",
      "metadata": {
        "id": "view-in-github",
        "colab_type": "text"
      },
      "source": [
        "<a href=\"https://colab.research.google.com/github/ParthikB/encryption/blob/master/encryption_digit_classification.ipynb\" target=\"_parent\"><img src=\"https://colab.research.google.com/assets/colab-badge.svg\" alt=\"Open In Colab\"/></a>"
      ]
    },
    {
      "cell_type": "code",
      "metadata": {
        "id": "tGzlLgp2bRxG",
        "colab_type": "code",
        "outputId": "266abf26-eedf-4276-8639-3157bebd084f",
        "colab": {
          "base_uri": "https://localhost:8080/",
          "height": 34
        }
      },
      "source": [
        "import torch\n",
        "import torchvision\n",
        "from torchvision import transforms, datasets\n",
        "import torch.nn as nn\n",
        "import torch.nn.functional as F\n",
        "import torch.optim as optim\n",
        "\n",
        "import numpy as np\n",
        "from tqdm import tqdm\n",
        "import matplotlib.pyplot as plt\n",
        "import time\n",
        "\n",
        "if torch.cuda.is_available():\n",
        "  device = torch.device('cuda:0')\n",
        "  running = 'GPU'\n",
        "else:\n",
        "  device = torch.device('cpu')\n",
        "  running = 'CPU'\n",
        "print(f'Running on : {running}')"
      ],
      "execution_count": 1,
      "outputs": [
        {
          "output_type": "stream",
          "text": [
            "Running on : GPU\n"
          ],
          "name": "stdout"
        }
      ]
    },
    {
      "cell_type": "markdown",
      "metadata": {
        "id": "S6uqFasbbRxL",
        "colab_type": "text"
      },
      "source": [
        "### Grabbing the Data"
      ]
    },
    {
      "cell_type": "code",
      "metadata": {
        "id": "wCDty-_hbRxM",
        "colab_type": "code",
        "colab": {}
      },
      "source": [
        "train = datasets.MNIST('', train=True, download=True,\n",
        "                      transform=transforms.Compose([transforms.ToTensor()]))\n",
        "\n",
        "test  = datasets.MNIST('', train=False, download=True,\n",
        "                      transform=transforms.Compose([transforms.ToTensor()]))"
      ],
      "execution_count": 0,
      "outputs": []
    },
    {
      "cell_type": "markdown",
      "metadata": {
        "id": "IZJw796EbRxP",
        "colab_type": "text"
      },
      "source": [
        "## Creating the Dataset Tensor"
      ]
    },
    {
      "cell_type": "code",
      "metadata": {
        "id": "F8rmkEOYbRxQ",
        "colab_type": "code",
        "colab": {}
      },
      "source": [
        "BATCH_SIZE = 32\n",
        "HEIGHT, WIDTH = 28, 28\n",
        "TOTAL_PIXELS = HEIGHT*WIDTH\n",
        "\n",
        "trainSet = torch.utils.data.DataLoader(train, batch_size=BATCH_SIZE, shuffle=True)\n",
        "testSet  = torch.utils.data.DataLoader(test,  batch_size=BATCH_SIZE, shuffle=True)"
      ],
      "execution_count": 0,
      "outputs": []
    },
    {
      "cell_type": "markdown",
      "metadata": {
        "id": "dvxkniYIbRxT",
        "colab_type": "text"
      },
      "source": [
        "#### Viewing one Sample"
      ]
    },
    {
      "cell_type": "code",
      "metadata": {
        "id": "anjzu7XMbRxT",
        "colab_type": "code",
        "outputId": "8cbe4f37-4d9a-4f64-c18d-c7d89921d135",
        "colab": {
          "base_uri": "https://localhost:8080/",
          "height": 218
        }
      },
      "source": [
        "i = np.random.randint(BATCH_SIZE) # a random sample from the first batch\n",
        "for data in trainSet:\n",
        "    # data --> one batch containing BATCH_SIZE samples\n",
        "    x, y = data[0][i], data[1][i]\n",
        "\n",
        "plt.subplot(1, 2, 1)\n",
        "plt.imshow(x.view(HEIGHT, WIDTH)) # Reshaping x from (1, Height, Width) --> (Height, Width)\n",
        "\n",
        "plt.subplot(1, 2, 2)\n",
        "plt.imshow(x.view(HEIGHT, WIDTH), cmap='gray')"
      ],
      "execution_count": 4,
      "outputs": [
        {
          "output_type": "execute_result",
          "data": {
            "text/plain": [
              "<matplotlib.image.AxesImage at 0x7f73bdd40e80>"
            ]
          },
          "metadata": {
            "tags": []
          },
          "execution_count": 4
        },
        {
          "output_type": "display_data",
          "data": {
            "image/png": "[encoded data removed]",
            "text/plain": [
              "<Figure size 432x288 with 2 Axes>"
            ]
          },
          "metadata": {
            "tags": []
          }
        }
      ]
    },
    {
      "cell_type": "markdown",
      "metadata": {
        "id": "NlzMrR2abRxa",
        "colab_type": "text"
      },
      "source": [
        "## Creating the Network Structure"
      ]
    },
    {
      "cell_type": "code",
      "metadata": {
        "id": "DQofOoyhbRxb",
        "colab_type": "code",
        "colab": {}
      },
      "source": [
        "l2_size = TOTAL_PIXELS\n",
        "\n",
        "class Net(nn.Module):\n",
        "    \n",
        "    def __init__(self):\n",
        "        super().__init__()\n",
        "        \n",
        "        self.fc1 = nn.Linear(TOTAL_PIXELS, l2_size)\n",
        "        self.fc2 = nn.Linear(l2_size, l2_size)        \n",
        "        self.fc3 = nn.Linear(l2_size, TOTAL_PIXELS)        \n",
        "    \n",
        "    def forward(self, x):\n",
        "        x = F.sigmoid(self.fc1(x))\n",
        "        x2 = F.sigmoid(self.fc2(x))        \n",
        "        x = F.sigmoid(self.fc3(x2))        \n",
        "        \n",
        "        return x, x2"
      ],
      "execution_count": 0,
      "outputs": []
    },
    {
      "cell_type": "markdown",
      "metadata": {
        "id": "sz68pQVY85dY",
        "colab_type": "text"
      },
      "source": [
        "## Load Pretrained Model"
      ]
    },
    {
      "cell_type": "code",
      "metadata": {
        "id": "lbfltVGA-EEF",
        "colab_type": "code",
        "colab": {
          "base_uri": "https://localhost:8080/",
          "height": 122
        },
        "outputId": "6f6d1f76-61ce-47a7-f1fd-9d66add123c2"
      },
      "source": [
        "from google.colab import drive\n",
        "drive.mount('/content/drive')"
      ],
      "execution_count": 6,
      "outputs": [
        {
          "output_type": "stream",
          "text": [
            "Go to this URL in a browser: https://accounts.google.com/o/oauth2/auth?client_id=947318989803-6bn6qk8qdgf4n4g3pfee6491hc0brc4i.apps.googleusercontent.com&redirect_uri=urn%3aietf%3awg%3aoauth%3a2.0%3aoob&response_type=code&scope=email%20https%3a%2f%2fwww.googleapis.com%2fauth%2fdocs.test%20https%3a%2f%2fwww.googleapis.com%2fauth%2fdrive%20https%3a%2f%2fwww.googleapis.com%2fauth%2fdrive.photos.readonly%20https%3a%2f%2fwww.googleapis.com%2fauth%2fpeopleapi.readonly\n",
            "\n",
            "Enter your authorization code:\n",
            "··········\n",
            "Mounted at /content/drive\n"
          ],
          "name": "stdout"
        }
      ]
    },
    {
      "cell_type": "code",
      "metadata": {
        "id": "ionXl_SI9Cy0",
        "colab_type": "code",
        "colab": {
          "base_uri": "https://localhost:8080/",
          "height": 298
        },
        "outputId": "bed57256-05c0-4650-a8ed-8eb1ca7a30ae"
      },
      "source": [
        "# Defining the Network and Optimizer base\n",
        "net = Net().to(device)\n",
        "optimizer = optim.Adam(net.parameters(), lr=0.001)\n",
        "\n",
        "# Loading the model file\n",
        "model_state_path = '/content/drive/My Drive/Colab Notebooks/encryption/digit_model_state_1575131769__0.0009882'\n",
        "model_state = torch.load(model_state_path)\n",
        "\n",
        "# Transferring the Model States to respective variables\n",
        "net.load_state_dict(model_state['state_dict'])\n",
        "optimizer.load_state_dict(model_state['optimizer'])\n",
        "loss_log = model_state['loss_log']\n",
        "\n",
        "# Plotting the Loss\n",
        "plt.plot(loss_log)\n",
        "plt.title(f'Loss | Min = {loss_log[-1].item()}')\n",
        "plt.grid(1)\n",
        "\n",
        "print('Model Loaded!')"
      ],
      "execution_count": 20,
      "outputs": [
        {
          "output_type": "stream",
          "text": [
            "Model Loaded!\n"
          ],
          "name": "stdout"
        },
        {
          "output_type": "display_data",
          "data": {
            "image/png": "[encoded data removed]",
            "text/plain": [
              "<Figure size 432x288 with 1 Axes>"
            ]
          },
          "metadata": {
            "tags": []
          }
        }
      ]
    },
    {
      "cell_type": "markdown",
      "metadata": {
        "id": "i_IXXR_2bRxd",
        "colab_type": "text"
      },
      "source": [
        "## Training the Network"
      ]
    },
    {
      "cell_type": "code",
      "metadata": {
        "id": "g-4f9BjHbRxe",
        "colab_type": "code",
        "outputId": "85236d2a-1410-4bc2-a6d3-5bae08c96cb3",
        "colab": {
          "base_uri": "https://localhost:8080/",
          "height": 485
        }
      },
      "source": [
        "CONTINUE_TRAINING = False\n",
        "LEARNING_RATE = 0.001 #1e-3\n",
        "EPOCHS        = 10\n",
        "\n",
        "if not CONTINUE_TRAINING:\n",
        "  net = Net().to(device)\n",
        "\n",
        "  # Define Optimizer\n",
        "  optimizer = optim.Adam(net.parameters(), lr=LEARNING_RATE)\n",
        "\n",
        "  loss_log = []\n",
        "\n",
        "# Iteration Begins\n",
        "for epoch in range(EPOCHS):\n",
        "    print('EPOCH :', epoch+1)\n",
        "    # Iterate over every sample in the batch\n",
        "    for data in tqdm(trainSet):\n",
        "        x, _ = data\n",
        "        net.zero_grad()\n",
        "        \n",
        "        #Compute the output\n",
        "        output, layer2 = net(x.view(-1, TOTAL_PIXELS).to(device))\n",
        "        \n",
        "        # Compute Loss\n",
        "        loss = F.smooth_l1_loss(output, x.view(-1, TOTAL_PIXELS).to(device))\n",
        "        loss_log.append(loss)\n",
        "        \n",
        "        # Backpropagate\n",
        "        loss.backward()\n",
        "        \n",
        "        # Update Parameters\n",
        "        optimizer.step()\n",
        "        \n",
        "    # print(loss)\n",
        "plt.plot(loss_log)\n",
        "plt.title(f'Loss | Min = {loss_log[-1].item()}')\n",
        "plt.grid(1)"
      ],
      "execution_count": 0,
      "outputs": [
        {
          "output_type": "stream",
          "text": [
            "  0%|          | 0/1875 [00:00<?, ?it/s]/usr/local/lib/python3.6/dist-packages/torch/nn/functional.py:1351: UserWarning: nn.functional.sigmoid is deprecated. Use torch.sigmoid instead.\n",
            "  warnings.warn(\"nn.functional.sigmoid is deprecated. Use torch.sigmoid instead.\")\n",
            "  1%|          | 20/1875 [00:00<00:09, 196.39it/s]"
          ],
          "name": "stderr"
        },
        {
          "output_type": "stream",
          "text": [
            "EPOCH : 1\n"
          ],
          "name": "stdout"
        },
        {
          "output_type": "stream",
          "text": [
            "100%|██████████| 1875/1875 [00:07<00:00, 246.00it/s]\n",
            "  1%|▏         | 25/1875 [00:00<00:07, 239.21it/s]"
          ],
          "name": "stderr"
        },
        {
          "output_type": "stream",
          "text": [
            "EPOCH : 2\n"
          ],
          "name": "stdout"
        },
        {
          "output_type": "stream",
          "text": [
            "100%|██████████| 1875/1875 [00:07<00:00, 247.44it/s]\n",
            "  1%|▏         | 26/1875 [00:00<00:07, 257.87it/s]"
          ],
          "name": "stderr"
        },
        {
          "output_type": "stream",
          "text": [
            "EPOCH : 3\n"
          ],
          "name": "stdout"
        },
        {
          "output_type": "stream",
          "text": [
            "100%|██████████| 1875/1875 [00:07<00:00, 241.84it/s]\n",
            "  1%|          | 20/1875 [00:00<00:09, 195.27it/s]"
          ],
          "name": "stderr"
        },
        {
          "output_type": "stream",
          "text": [
            "EPOCH : 4\n"
          ],
          "name": "stdout"
        },
        {
          "output_type": "stream",
          "text": [
            "100%|██████████| 1875/1875 [00:07<00:00, 242.08it/s]\n",
            "  1%|▏         | 25/1875 [00:00<00:07, 241.92it/s]"
          ],
          "name": "stderr"
        },
        {
          "output_type": "stream",
          "text": [
            "EPOCH : 5\n"
          ],
          "name": "stdout"
        },
        {
          "output_type": "stream",
          "text": [
            "100%|██████████| 1875/1875 [00:07<00:00, 237.86it/s]\n"
          ],
          "name": "stderr"
        },
        {
          "output_type": "display_data",
          "data": {
            "image/png": "[encoded data removed]",
            "text/plain": [
              "<Figure size 432x288 with 1 Axes>"
            ]
          },
          "metadata": {
            "tags": []
          }
        }
      ]
    },
    {
      "cell_type": "markdown",
      "metadata": {
        "id": "UPZdwqT0d1rM",
        "colab_type": "text"
      },
      "source": [
        "## Encryption Decryption"
      ]
    },
    {
      "cell_type": "code",
      "metadata": {
        "id": "ZINip3UEe--t",
        "colab_type": "code",
        "outputId": "d74d60e6-1c87-42b4-ae80-a937a1f759f8",
        "colab": {
          "base_uri": "https://localhost:8080/",
          "height": 712
        }
      },
      "source": [
        "# Selecting a random sample from the dataset\n",
        "random = np.random.randint(32)\n",
        "\n",
        "for data in trainSet:\n",
        "  # print(data)\n",
        "  sample = data[0][random].view(HEIGHT, WIDTH)\n",
        "  break\n",
        "\n",
        "\n",
        "# Passing the sample through the Network and also generating the ENCRYPTED IMAGE\n",
        "with torch.no_grad():\n",
        "    # for data in trainSet:\n",
        "        x = sample\n",
        "        testOutput, encryptedImage = net(x.view(-1, TOTAL_PIXELS).to(device))\n",
        "\n",
        "\n",
        "# Converting the tensor into numpy array and reshaping from VECTOR to 2D MATRIX\n",
        "testOutput  = testOutput.view(HEIGHT, WIDTH)\n",
        "testOutput  = testOutput.cpu().detach().numpy()*255\n",
        "\n",
        "encryptedImage  = encryptedImage.view(int(np.sqrt(l2_size)), int(np.sqrt(l2_size)))\n",
        "# Generating a random noise image to verify that Encrypted Image is just not random\n",
        "randomNoise     = torch.rand(int(np.sqrt(l2_size)), int(np.sqrt(l2_size)))\n",
        "\n",
        "\n",
        "# DECRYPTING THE ENCRYPTED_IMAGE/NOISE\n",
        "with torch.no_grad():\n",
        "  decryptedImage = F.sigmoid(net.fc3((torch.tensor(encryptedImage)).view(-1, l2_size)).to(device))\n",
        "  randomNoiseDecrypted = F.sigmoid(net.fc3((randomNoise.view(-1, l2_size).to(device))))\n",
        "\n",
        "\n",
        "encryptedImage = encryptedImage.cpu().detach().numpy()*255\n",
        "decryptedImage = decryptedImage.view(HEIGHT, WIDTH).cpu().detach().numpy()*255\n",
        "randomNoiseDecrypted = randomNoiseDecrypted.view(HEIGHT, WIDTH).cpu().detach().numpy()*255\n",
        "\n",
        "\n",
        "# PLOTTING THE OUTPUTS\n",
        "plt.figure(figsize=(14, 10))\n",
        "\n",
        "plt.subplot(3, 4, 1)\n",
        "plt.imshow(sample)\n",
        "plt.title('Network Input')\n",
        "\n",
        "plt.subplot(3, 4, 2)\n",
        "plt.imshow(testOutput)\n",
        "plt.title('Network Output')\n",
        "\n",
        "plt.subplot(3, 4, 5)\n",
        "plt.imshow(encryptedImage)\n",
        "plt.title('Encrypted Image')\n",
        "\n",
        "plt.subplot(3, 4, 6)\n",
        "plt.imshow(decryptedImage)\n",
        "plt.title('Decrypted Image')\n",
        "\n",
        "plt.subplot(3, 4, 9)\n",
        "plt.imshow(randomNoise)\n",
        "plt.title('Random Noise')\n",
        "\n",
        "plt.subplot(3, 4, 10)\n",
        "plt.imshow(randomNoiseDecrypted)\n",
        "plt.title('Decrypted Noise')\n",
        "\n",
        "# The Original Gray Images\n",
        "plt.subplot(3, 4, 3)\n",
        "plt.imshow(sample, cmap='gray')\n",
        "plt.title('Network Input')\n",
        "\n",
        "plt.subplot(3, 4, 4)\n",
        "plt.imshow(testOutput, cmap='gray')\n",
        "plt.title('Network Output')\n",
        "\n",
        "plt.subplot(3, 4, 7)\n",
        "plt.imshow(encryptedImage, cmap='gray')\n",
        "plt.title('Encrypted Image')\n",
        "\n",
        "plt.subplot(3, 4, 8)\n",
        "plt.imshow(decryptedImage, cmap='gray')\n",
        "plt.title('Decrypted Image')\n",
        "\n",
        "plt.subplot(3, 4, 11)\n",
        "plt.imshow(randomNoise, cmap='gray')\n",
        "plt.title('Random Noise')\n",
        "\n",
        "plt.subplot(3, 4, 12)\n",
        "plt.imshow(randomNoiseDecrypted, cmap='gray')\n",
        "plt.title('Decrypted Noise')\n",
        "\n",
        "print()\n",
        "print(\"Total Loss :\", loss_log[-1].item())"
      ],
      "execution_count": 72,
      "outputs": [
        {
          "output_type": "stream",
          "text": [
            "/usr/local/lib/python3.6/dist-packages/torch/nn/functional.py:1351: UserWarning: nn.functional.sigmoid is deprecated. Use torch.sigmoid instead.\n",
            "  warnings.warn(\"nn.functional.sigmoid is deprecated. Use torch.sigmoid instead.\")\n",
            "/usr/local/lib/python3.6/dist-packages/ipykernel_launcher.py:27: UserWarning: To copy construct from a tensor, it is recommended to use sourceTensor.clone().detach() or sourceTensor.clone().detach().requires_grad_(True), rather than torch.tensor(sourceTensor).\n"
          ],
          "name": "stderr"
        },
        {
          "output_type": "stream",
          "text": [
            "\n",
            "Total Loss : 0.000988234649412334\n"
          ],
          "name": "stdout"
        },
        {
          "output_type": "display_data",
          "data": {
            "image/png": "[encoded data removed]",
            "text/plain": [
              "<Figure size 1008x720 with 12 Axes>"
            ]
          },
          "metadata": {
            "tags": []
          }
        }
      ]
    },
    {
      "cell_type": "code",
      "metadata": {
        "id": "v8EhiJrjO2q_",
        "colab_type": "code",
        "colab": {
          "base_uri": "https://localhost:8080/",
          "height": 34
        },
        "outputId": "19a60950-7558-43db-8c95-d8a8baec2e55"
      },
      "source": [
        "print('Difference between Network output and Decrypted Image :', np.sum(testOutput - decryptedImage))"
      ],
      "execution_count": 73,
      "outputs": [
        {
          "output_type": "stream",
          "text": [
            "Difference between Network output and Decrypted Image : 0.0\n"
          ],
          "name": "stdout"
        }
      ]
    },
    {
      "cell_type": "code",
      "metadata": {
        "id": "6oIJmvaqIulk",
        "colab_type": "code",
        "outputId": "8406b55c-25e6-4b02-c43d-d59aa11ecdf0",
        "colab": {
          "base_uri": "https://localhost:8080/",
          "height": 51
        }
      },
      "source": [
        "SAVE_MODEL = False\n",
        "\n",
        "if SAVE_MODEL:\n",
        "\n",
        "  from google.colab import drive\n",
        "  drive.mount('/content/drive')\n",
        "\n",
        "  model_state = {\n",
        "      'epochs'    : 10,\n",
        "      'loss_type' : 'smooth_l1_loss',\n",
        "      'loss_log'  : loss_log,\n",
        "      'state_dict': net.state_dict(),\n",
        "      'optimizer' : optimizer.state_dict(),\n",
        "  }\n",
        "\n",
        "  torch.save(model_state, f'/content/drive/My Drive/Colab Notebooks/encryption/digit_model_state_{int(time.time())}__{np.round(loss_log[-1].item(), 7)}')\n",
        "  print(f'Model [digit_model_state_{int(time.time())}__{np.round(loss_log[-1].item(), 7)}] saved successfully!')"
      ],
      "execution_count": 0,
      "outputs": [
        {
          "output_type": "stream",
          "text": [
            "Drive already mounted at /content/drive; to attempt to forcibly remount, call drive.mount(\"/content/drive\", force_remount=True).\n",
            "Model [digit_model_state_1575131773__0.0009882] saved successfully!\n"
          ],
          "name": "stdout"
        }
      ]
    },
    {
      "cell_type": "markdown",
      "metadata": {
        "id": "iZc-rlH7_-l3",
        "colab_type": "text"
      },
      "source": [
        "# Accuracy Check"
      ]
    },
    {
      "cell_type": "code",
      "metadata": {
        "id": "rmgww5ImAgdW",
        "colab_type": "code",
        "colab": {}
      },
      "source": [
        "BATCH_SIZE = 1\n",
        "\n",
        "trainSet = torch.utils.data.DataLoader(train, batch_size=BATCH_SIZE, shuffle=False)\n",
        "testSet  = torch.utils.data.DataLoader(test,  batch_size=BATCH_SIZE, shuffle=False)"
      ],
      "execution_count": 0,
      "outputs": []
    },
    {
      "cell_type": "code",
      "metadata": {
        "id": "oK_0R65jOCDC",
        "colab_type": "code",
        "colab": {
          "base_uri": "https://localhost:8080/",
          "height": 68
        },
        "outputId": "d966e97b-06df-4d43-e45d-75d069fc2f85"
      },
      "source": [
        "outputs = []\n",
        "\n",
        "with torch.no_grad():\n",
        "    for data in tqdm(trainSet):\n",
        "        x, y = data\n",
        "        # print(data)\n",
        "        # break\n",
        "        testOutput, encryptedImage = net(x.view(-1, TOTAL_PIXELS).to(device))\n",
        "\n",
        "        # Because Decrypted Image = testOutput. So, to save time, we'll just use the testOutput for verification.\n",
        "        outputs.append(testOutput.view(BATCH_SIZE, HEIGHT, WIDTH))"
      ],
      "execution_count": 113,
      "outputs": [
        {
          "output_type": "stream",
          "text": [
            "  0%|          | 0/60000 [00:00<?, ?it/s]/usr/local/lib/python3.6/dist-packages/torch/nn/functional.py:1351: UserWarning: nn.functional.sigmoid is deprecated. Use torch.sigmoid instead.\n",
            "  warnings.warn(\"nn.functional.sigmoid is deprecated. Use torch.sigmoid instead.\")\n",
            "100%|██████████| 60000/60000 [00:36<00:00, 1666.21it/s]\n"
          ],
          "name": "stderr"
        }
      ]
    },
    {
      "cell_type": "code",
      "metadata": {
        "id": "NIuOGTVoBEzw",
        "colab_type": "code",
        "colab": {}
      },
      "source": [
        "input_unrolled_size = TOTAL_PIXELS\n",
        "total_classes       = 10\n",
        "\n",
        "class Classifier_net(nn.Module):\n",
        "    \n",
        "    def __init__(self):\n",
        "        super().__init__()\n",
        "        \n",
        "        self.fc1 = nn.Linear(input_unrolled_size, 64)\n",
        "        self.fc2 = nn.Linear(64,    64)        \n",
        "        self.fc3 = nn.Linear(64,    64)        \n",
        "        self.fc4 = nn.Linear(64,    total_classes)        \n",
        "    \n",
        "    def forward(self, x):\n",
        "        x = F.relu(self.fc1(x))\n",
        "        x = F.relu(self.fc2(x))        \n",
        "        x = F.relu(self.fc3(x))        \n",
        "        x = F.log_softmax(self.fc4(x), dim=1)\n",
        "        \n",
        "        return x"
      ],
      "execution_count": 0,
      "outputs": []
    },
    {
      "cell_type": "markdown",
      "metadata": {
        "id": "oIlpIxRML8xc",
        "colab_type": "text"
      },
      "source": [
        "## Loading Pretrained Model"
      ]
    },
    {
      "cell_type": "code",
      "metadata": {
        "id": "2_zZWyG-LJcD",
        "colab_type": "code",
        "colab": {
          "base_uri": "https://localhost:8080/",
          "height": 298
        },
        "outputId": "44eb4512-8a49-471e-cf0b-6b8fb3b07caf"
      },
      "source": [
        "# Defining the Network and Optimizer base\n",
        "classifier_net = Classifier_net().to(device)\n",
        "optimizer = optim.Adam(classifier_net.parameters(), lr=0.001)\n",
        "\n",
        "# Loading the model file\n",
        "model_state_path = '/content/drive/My Drive/Colab Notebooks/encryption/classification_model'\n",
        "model_state = torch.load(model_state_path)\n",
        "\n",
        "# Transferring the Model States to respective variables\n",
        "classifier_net.load_state_dict(model_state['state_dict'])\n",
        "optimizer.load_state_dict(model_state['optimizer'])\n",
        "classifier_loss_log = model_state['loss_log']\n",
        "\n",
        "# Plotting the Loss\n",
        "plt.plot(classifier_loss_log)\n",
        "plt.title(f'Loss | Min = {classifier_loss_log[-1].item()}')\n",
        "plt.grid(1)\n",
        "\n",
        "print('Model Loaded!')"
      ],
      "execution_count": 75,
      "outputs": [
        {
          "output_type": "stream",
          "text": [
            "Model Loaded!\n"
          ],
          "name": "stdout"
        },
        {
          "output_type": "display_data",
          "data": {
            "image/png": "[encoded data removed]",
            "text/plain": [
              "<Figure size 432x288 with 1 Axes>"
            ]
          },
          "metadata": {
            "tags": []
          }
        }
      ]
    },
    {
      "cell_type": "markdown",
      "metadata": {
        "id": "0tHJFPD9AA83",
        "colab_type": "text"
      },
      "source": [
        "## Training the Network"
      ]
    },
    {
      "cell_type": "code",
      "metadata": {
        "id": "QVqP3wSPMIq7",
        "colab_type": "code",
        "colab": {
          "base_uri": "https://localhost:8080/",
          "height": 282
        },
        "outputId": "94bb51d0-5a23-4599-be8c-4a81ea85fcca"
      },
      "source": [
        "for data in zip(trainSet, outputs):\n",
        "  # data.append(torch.rand(28, 28))\n",
        "  # print(data)\n",
        "  break\n",
        "\n",
        "# plt.imshow(data[0][0].view(28,28))\n",
        "plt.imshow(data[1].view(28,28).cpu())\n",
        "print(data[0][1])"
      ],
      "execution_count": 120,
      "outputs": [
        {
          "output_type": "stream",
          "text": [
            "tensor([5])\n"
          ],
          "name": "stdout"
        },
        {
          "output_type": "display_data",
          "data": {
            "image/png": "[encoded data removed]",
            "text/plain": [
              "<Figure size 432x288 with 1 Axes>"
            ]
          },
          "metadata": {
            "tags": []
          }
        }
      ]
    },
    {
      "cell_type": "code",
      "metadata": {
        "id": "mO8JMAvxA3k4",
        "colab_type": "code",
        "colab": {
          "base_uri": "https://localhost:8080/",
          "height": 136
        },
        "outputId": "454c69be-d364-43b3-9bc2-80698632c52e"
      },
      "source": [
        "correct, total = 0, 0\n",
        "decrypted_correct, decrypted_total = 0, 0\n",
        "\n",
        "with torch.no_grad():\n",
        "    \n",
        "    # Train Accuracy\n",
        "    for data in tqdm(zip(trainSet, outputs)):\n",
        "        original, net_output = data\n",
        "        x, y = original\n",
        "        original_output  = classifier_net(x.view(-1, TOTAL_PIXELS).to(device))\n",
        "        decrypted_output = classifier_net(net_output.view(-1, TOTAL_PIXELS).to(device))\n",
        "        \n",
        "        for idx, i in enumerate(original_output):\n",
        "            if torch.argmax(i) == y[idx]:\n",
        "                correct += 1\n",
        "            total += 1\n",
        "        \n",
        "        for idx, i in enumerate(decrypted_output):\n",
        "            if torch.argmax(i) == y[idx]:\n",
        "                decrypted_correct += 1\n",
        "            decrypted_total += 1\n",
        "\n",
        "    trainAccuracy = round(correct/total *100, 2)\n",
        "    decrypted_trainAccuracy = round(decrypted_correct/decrypted_total *100, 2)\n",
        "    \n",
        "    # Test Accuracy\n",
        "    for data in tqdm(zip(testSet, outputs)):\n",
        "        original, net_output = data\n",
        "        x, y = original\n",
        "        original_output  = classifier_net(x.view(-1, TOTAL_PIXELS).to(device))\n",
        "        decrypted_output = classifier_net(net_output.view(-1, TOTAL_PIXELS).to(device))\n",
        "        \n",
        "        for idx, i in enumerate(original_output):\n",
        "            if torch.argmax(i) == y[idx]:\n",
        "                correct += 1\n",
        "            total += 1\n",
        "        \n",
        "        for idx, i in enumerate(decrypted_output):\n",
        "            if torch.argmax(i) == y[idx]:\n",
        "                decrypted_correct += 1\n",
        "            decrypted_total += 1\n",
        "\n",
        "    testAccuracy = round(correct/total *100, 2)\n",
        "    decrypted_testAccuracy = round(decrypted_correct/decrypted_total *100, 2)\n",
        "\n",
        "print()\n",
        "print('Train Accuracy           :', trainAccuracy, '%')\n",
        "print('Test Accuracy            :', testAccuracy, '%')\n",
        "print('Decrypted Train Accuracy :', decrypted_trainAccuracy, '%')\n",
        "print('Decrypted Test Accuracy  :', decrypted_testAccuracy, '%')"
      ],
      "execution_count": 121,
      "outputs": [
        {
          "output_type": "stream",
          "text": [
            "60000it [01:15, 789.92it/s]\n",
            "10000it [00:12, 797.19it/s]"
          ],
          "name": "stderr"
        },
        {
          "output_type": "stream",
          "text": [
            "\n",
            "Train Accuracy           : 96.68 %\n",
            "Test Accuracy            : 96.58 %\n",
            "Decrypted Train Accuracy : 96.4 %\n",
            "Decrypted Test Accuracy  : 84.05 %\n"
          ],
          "name": "stdout"
        },
        {
          "output_type": "stream",
          "text": [
            "\n"
          ],
          "name": "stderr"
        }
      ]
    }
  ]
}