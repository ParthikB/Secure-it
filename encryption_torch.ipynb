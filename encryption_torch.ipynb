{
  "nbformat": 4,
  "nbformat_minor": 0,
  "metadata": {
    "colab": {
      "name": "encryption-torch",
      "provenance": [],
      "collapsed_sections": [],
      "include_colab_link": true
    },
    "kernelspec": {
      "name": "python3",
      "display_name": "Python 3"
    },
    "accelerator": "GPU"
  },
  "cells": [
    {
      "cell_type": "markdown",
      "metadata": {
        "id": "view-in-github",
        "colab_type": "text"
      },
      "source": [
        "<a href=\"https://colab.research.google.com/github/ParthikB/encryption/blob/master/encryption_torch.ipynb\" target=\"_parent\"><img src=\"https://colab.research.google.com/assets/colab-badge.svg\" alt=\"Open In Colab\"/></a>"
      ]
    },
    {
      "cell_type": "code",
      "metadata": {
        "id": "fQI-Hd1bIHZS",
        "colab_type": "code",
        "outputId": "1545ef3c-4a7c-4772-f26a-19e3f6af7659",
        "colab": {
          "base_uri": "https://localhost:8080/",
          "height": 122
        }
      },
      "source": [
        "from google.colab import drive\n",
        "drive.mount('/content/drive')"
      ],
      "execution_count": 104,
      "outputs": [
        {
          "output_type": "stream",
          "text": [
            "Go to this URL in a browser: https://accounts.google.com/o/oauth2/auth?client_id=947318989803-6bn6qk8qdgf4n4g3pfee6491hc0brc4i.apps.googleusercontent.com&redirect_uri=urn%3aietf%3awg%3aoauth%3a2.0%3aoob&response_type=code&scope=email%20https%3a%2f%2fwww.googleapis.com%2fauth%2fdocs.test%20https%3a%2f%2fwww.googleapis.com%2fauth%2fdrive%20https%3a%2f%2fwww.googleapis.com%2fauth%2fdrive.photos.readonly%20https%3a%2f%2fwww.googleapis.com%2fauth%2fpeopleapi.readonly\n",
            "\n",
            "Enter your authorization code:\n",
            "··········\n",
            "Mounted at /content/drive\n"
          ],
          "name": "stdout"
        }
      ]
    },
    {
      "cell_type": "code",
      "metadata": {
        "id": "9fJyy_9CIIgd",
        "colab_type": "code",
        "colab": {}
      },
      "source": [
        "import torch\n",
        "import torchvision\n",
        "from torchvision import transforms, datasets\n",
        "import torch.nn as nn\n",
        "import torch.nn.functional as F\n",
        "import torch.optim as optim\n",
        "\n",
        "import time\n",
        "import urllib\n",
        "import matplotlib.pyplot as plt\n",
        "import numpy as np\n",
        "from tqdm import tqdm\n",
        "import cv2\n",
        "from PIL import Image\n",
        "from google.colab.patches import cv2_imshow"
      ],
      "execution_count": 0,
      "outputs": []
    },
    {
      "cell_type": "code",
      "metadata": {
        "id": "pY_J740b6E_f",
        "colab_type": "code",
        "outputId": "0720952a-b7c6-4734-f86c-2c785daf3639",
        "colab": {
          "base_uri": "https://localhost:8080/",
          "height": 34
        }
      },
      "source": [
        "if torch.cuda.is_available():\n",
        "  device = torch.device('cuda:0')\n",
        "  running = 'GPU'\n",
        "else:\n",
        "  device = torch.device('cpu')\n",
        "  running = 'CPU'\n",
        "print(f'Running on : {running}')"
      ],
      "execution_count": 3,
      "outputs": [
        {
          "output_type": "stream",
          "text": [
            "Running on : GPU\n"
          ],
          "name": "stdout"
        }
      ]
    },
    {
      "cell_type": "code",
      "metadata": {
        "id": "u6rbrTBGFTMl",
        "colab_type": "code",
        "colab": {}
      },
      "source": [
        "link = 'https://cdn.shopify.com/s/files/1/0014/3186/3369/products/U-PNDW-3-2.jpg?v=1534449006'\n",
        "\n",
        "def urlToImage(url):\n",
        "  resp = urllib.request.urlopen(url)\n",
        "  img = np.asarray(bytearray(resp.read()), dtype='uint8')\n",
        "  img = cv2.imdecode(img, cv2.IMREAD_COLOR)\n",
        "  img = cv2.cvtColor(img, cv2.COLOR_BGR2RGB)\n",
        "\n",
        "  # img = np.expand_dims(img2show, axis=0)\n",
        "  return img\n",
        "\n",
        "img = urlToImage(link)\n"
      ],
      "execution_count": 0,
      "outputs": []
    },
    {
      "cell_type": "code",
      "metadata": {
        "id": "sd5ZQdgAF02j",
        "colab_type": "code",
        "colab": {}
      },
      "source": [
        "img"
      ],
      "execution_count": 0,
      "outputs": []
    },
    {
      "cell_type": "code",
      "metadata": {
        "id": "UowoO79pJniL",
        "colab_type": "code",
        "colab": {}
      },
      "source": [
        "# Downloading the Image from the Internet\n",
        "img = urlToImage(link)\n",
        "\n",
        "# Resizing the image\n",
        "height, width = 20, 20\n",
        "original = cv2.resize(img, (width, height))\n",
        "\n",
        "# Convering to grascale\n",
        "gray = cv2.cvtColor(original, cv2.COLOR_BGR2GRAY)\n",
        "\n",
        "# Making input output variables\n",
        "inImg = outImg = cv2.resize(gray, (width, height))"
      ],
      "execution_count": 0,
      "outputs": []
    },
    {
      "cell_type": "code",
      "metadata": {
        "id": "n3YML7IvKkAe",
        "colab_type": "code",
        "outputId": "3d981cb2-42c3-4737-950a-1f321b56f052",
        "colab": {
          "base_uri": "https://localhost:8080/",
          "height": 327
        }
      },
      "source": [
        "# PLOTTING\n",
        "\n",
        "plt.figure(figsize=(15, 15))\n",
        "\n",
        "plt.subplot(1, 3, 1)\n",
        "plt.imshow(original)\n",
        "plt.title('Original Image')\n",
        "\n",
        "plt.subplot(1, 3, 2)\n",
        "plt.imshow(inImg, cmap='gray')\n",
        "plt.title('Input Image')\n",
        "\n",
        "plt.subplot(1, 3, 3)\n",
        "plt.imshow(inImg)\n",
        "plt.title('cv2 Image')\n",
        "\n",
        "print('Total Pixels :', np.prod(inImg.shape))"
      ],
      "execution_count": 23,
      "outputs": [
        {
          "output_type": "stream",
          "text": [
            "Total Pixels : 400\n"
          ],
          "name": "stdout"
        },
        {
          "output_type": "display_data",
          "data": {
            "image/png": "[encoded data removed]",
            "text/plain": [
              "<Figure size 1080x1080 with 3 Axes>"
            ]
          },
          "metadata": {
            "tags": []
          }
        }
      ]
    },
    {
      "cell_type": "code",
      "metadata": {
        "id": "NeuoByHCLg6B",
        "colab_type": "code",
        "colab": {
          "base_uri": "https://localhost:8080/",
          "height": 34
        },
        "outputId": "73936f7b-97fc-4b1a-8419-ae31f91a8ece"
      },
      "source": [
        "# Creating training dataset\n",
        "trainSet = []\n",
        "SAMPLES  = 1\n",
        "\n",
        "for i in range(SAMPLES):\n",
        "  trainSet.append([torch.Tensor(inImg), torch.Tensor(outImg)])\n",
        "\n",
        "print('Total number of training samples :', len(trainSet))"
      ],
      "execution_count": 27,
      "outputs": [
        {
          "output_type": "stream",
          "text": [
            "Total number of training samples : 1\n"
          ],
          "name": "stdout"
        }
      ]
    },
    {
      "cell_type": "code",
      "metadata": {
        "id": "18bb29bI1eOA",
        "colab_type": "code",
        "colab": {}
      },
      "source": [
        "class Net(nn.Module):\n",
        "  def __init__(self):\n",
        "    super().__init__()\n",
        "\n",
        "    '''\n",
        "    Network Structure:\n",
        "\n",
        "    input > \n",
        "    (1)Conv2D > (2)MaxPool2D > \n",
        "    (3)Conv2D > (4)MaxPool2D > \n",
        "    (5)Conv2D > (6)MaxPool2D > \n",
        "    (7)Linear > (8)LinearOut\n",
        "\n",
        "    '''\n",
        "\n",
        "    # Creating the convulutional Layers\n",
        "    self.conv1 = nn.Conv2d(in_channels=1, out_channels=64, kernel_size=2)\n",
        "    self.conv2 = nn.Conv2d(in_channels=64, out_channels=128, kernel_size=2)\n",
        "    self.conv3 = nn.Conv2d(in_channels=128, out_channels=256, kernel_size=2)\n",
        "\n",
        "    self.flatten = None\n",
        "    # # Creating a Random dummy sample to get the Flattened Dimensions\n",
        "    x = torch.randn(20, 20).view(-1, 1, 20, 20)\n",
        "    x = self.convs(x)\n",
        "\n",
        "    # Creating the Linear Layers\n",
        "    self.fc1   = nn.Linear(self.flatten, 1024)\n",
        "    self.fc2   = nn.Linear(1024, 400)\n",
        "\n",
        "  def convs(self, x):\n",
        "\n",
        "    # Creating the MaxPooling Layers\n",
        "    x = F.max_pool2d(F.relu(self.conv1(x)), kernel_size=(2, 2))\n",
        "    x = F.max_pool2d(F.relu(self.conv2(x)), kernel_size=(2, 2))\n",
        "    x = F.max_pool2d(F.relu(self.conv3(x)), kernel_size=(2, 2))\n",
        "    if not self.flatten:\n",
        "      self.flatten = x[0].shape[0] * x[0].shape[1] * x[0].shape[2]\n",
        "    return x\n",
        "\n",
        "  # FORWARD PASS\n",
        "  def forward(self, x):\n",
        "    x = self.convs(x)\n",
        "    x = x.view(-1, self.flatten)\n",
        "    x = F.relu(self.fc1(x))\n",
        "    x = F.relu(self.fc2(x))\n",
        "    return x"
      ],
      "execution_count": 0,
      "outputs": []
    },
    {
      "cell_type": "code",
      "metadata": {
        "id": "Ijasbt4F3BmH",
        "colab_type": "code",
        "colab": {}
      },
      "source": [
        "def train(net, EPOCHS=5, LEARNING_RATE=0.001, BATCH_SIZE=32):\n",
        "\n",
        "  optimizer = optim.Adam(net.parameters(), lr=LEARNING_RATE)\n",
        "  loss_func = nn.MSELoss()\n",
        "  loss_log  = []\n",
        "\n",
        "  for epoch in range(EPOCHS):\n",
        "    print('Epoch :', epoch+1)\n",
        "    for i in tqdm(range(0, len(trainSet), BATCH_SIZE)):\n",
        "      x_batch = trainSet[i][0].view(-1, 1, 20, 20).to(device)/255.0\n",
        "      y_batch = trainSet[i][1].view(-1, 1, 400).to(device)/255.0\n",
        "\n",
        "      net.zero_grad()\n",
        "      output = net(x_batch)\n",
        "      loss = F.smooth_l1_loss(output, y_batch.float())\n",
        "      loss.backward()\n",
        "      optimizer.step()\n",
        "      loss_log.append(loss)\n",
        "      # break\n",
        "    # print(f\"Epoch : {epoch} || Loss : {loss}\")\n",
        "\n",
        "  return loss_log, output\n",
        "\n",
        "net = Net().to(device)\n",
        "loss_log, output = train(net, EPOCHS=50, BATCH_SIZE=1)"
      ],
      "execution_count": 0,
      "outputs": []
    },
    {
      "cell_type": "code",
      "metadata": {
        "id": "Ro9Dr5fF4jHr",
        "colab_type": "code",
        "outputId": "4e9bd4ea-246b-4666-f1e1-20959882e169",
        "colab": {
          "base_uri": "https://localhost:8080/",
          "height": 285
        }
      },
      "source": [
        "plt.plot(loss_log)"
      ],
      "execution_count": 25,
      "outputs": [
        {
          "output_type": "execute_result",
          "data": {
            "text/plain": [
              "[<matplotlib.lines.Line2D at 0x7f60b15395c0>]"
            ]
          },
          "metadata": {
            "tags": []
          },
          "execution_count": 25
        },
        {
          "output_type": "display_data",
          "data": {
            "image/png": "[encoded data removed]",
            "text/plain": [
              "<Figure size 432x288 with 1 Axes>"
            ]
          },
          "metadata": {
            "tags": []
          }
        }
      ]
    },
    {
      "cell_type": "code",
      "metadata": {
        "id": "gnuiqj2x4o9x",
        "colab_type": "code",
        "outputId": "1c00c72c-f0e9-41c9-c7f4-8163ea3705be",
        "colab": {
          "base_uri": "https://localhost:8080/",
          "height": 34
        }
      },
      "source": [
        "loss_log[-1]"
      ],
      "execution_count": 26,
      "outputs": [
        {
          "output_type": "execute_result",
          "data": {
            "text/plain": [
              "tensor(0.0465, device='cuda:0', grad_fn=<SmoothL1LossBackward>)"
            ]
          },
          "metadata": {
            "tags": []
          },
          "execution_count": 26
        }
      ]
    },
    {
      "cell_type": "code",
      "metadata": {
        "id": "DECM_pcMwoNx",
        "colab_type": "code",
        "colab": {}
      },
      "source": [
        "class Net(nn.Module):\n",
        "    \n",
        "    def __init__(self):\n",
        "        super().__init__()\n",
        "        \n",
        "        # self.fc1 = nn.Linear(400, 400)\n",
        "\n",
        "        # self.fc2 = nn.Linear(4800, 4800)        \n",
        "        # self.fc3 = nn.Linear(4800, 4800)        \n",
        "        # self.fc4 = nn.Linear(4800, 4800)  \n",
        "\n",
        "        self.fc1 = nn.Linear(400, 256)\n",
        "        self.fc2 = nn.Linear(256, 128)\n",
        "        self.fc3 = nn.Linear(128, 64)\n",
        "\n",
        "        # self.fc4 = nn.Linear(64, 32)\n",
        "        # self.fc5 = nn.Linear(32, 64)        \n",
        "        \n",
        "        self.fc6 = nn.Linear(64, 128)        \n",
        "        self.fc7 = nn.Linear(128, 256)        \n",
        "        self.fc8 = nn.Linear(256, 400)        \n",
        "    \n",
        "    def forward(self, x):\n",
        "        # for i in range(5):\n",
        "        #   x = F.sigmoid(self.fc1(x))\n",
        "\n",
        "        x = F.sigmoid(self.fc1(x))\n",
        "        x = F.sigmoid(self.fc2(x))\n",
        "        x = F.sigmoid(self.fc3(x))\n",
        "        # x = F.sigmoid(self.fc4(x))\n",
        "        # x = F.sigmoid(self.fc5(x))\n",
        "        x = F.sigmoid(self.fc6(x))\n",
        "        x = F.sigmoid(self.fc7(x))\n",
        "        x = F.sigmoid(self.fc8(x))\n",
        "        \n",
        "        \n",
        "        return x"
      ],
      "execution_count": 0,
      "outputs": []
    },
    {
      "cell_type": "code",
      "metadata": {
        "id": "FggofSrXxKtC",
        "colab_type": "code",
        "outputId": "9500d22a-3b87-4fcf-dcdd-6ae03afb1d03",
        "colab": {
          "base_uri": "https://localhost:8080/",
          "height": 333
        }
      },
      "source": [
        "CONTINUE_TRAINING = False\n",
        "\n",
        "LEARNING_RATE = 0.001 #1e-3\n",
        "EPOCHS        = 200\n",
        "HEIGHT, WIDTH = height//8, width//8\n",
        "TOTAL_PIXELS  = HEIGHT * WIDTH\n",
        "\n",
        "if not CONTINUE_TRAINING:\n",
        "  net = Net()\n",
        "  loss_log = []\n",
        "  outputs  = []\n",
        "\n",
        "# loss_function = nn.SmoothL1Loss()\n",
        "# Define Optimizer\n",
        "  optimizer = optim.Adam(net.parameters(), lr=LEARNING_RATE)\n",
        "\n",
        "\n",
        "# Iteration Begins\n",
        "for epoch in tqdm(range(EPOCHS)):\n",
        "    # Iterate over every sample in the batch\n",
        "    for data in trainSet:\n",
        "        x, y = data\n",
        "        x = x/255.0\n",
        "        y = y/255.0\n",
        "\n",
        "        net.zero_grad()\n",
        "\n",
        "        #Compute the output\n",
        "        output = net(x.view(-1, TOTAL_PIXELS))\n",
        "        \n",
        "        # Saving every output image\n",
        "        img = output.view(HEIGHT, WIDTH)\n",
        "        img = img.detach().numpy()\n",
        "        outputs.append(img)\n",
        "\n",
        "        # Compute Loss\n",
        "        loss = F.mse_loss(output, y.view(-1, TOTAL_PIXELS))\n",
        "        loss_log.append(loss)\n",
        "\n",
        "        # Backpropagate\n",
        "        loss.backward()\n",
        "        \n",
        "        # Update Parameters\n",
        "        optimizer.step()\n",
        "        \n",
        "    # print(loss)\n",
        "\n",
        "plt.plot(loss_log)\n",
        "print('Final Loss :', loss_log[-1])"
      ],
      "execution_count": 127,
      "outputs": [
        {
          "output_type": "stream",
          "text": [
            "  0%|          | 0/200 [00:00<?, ?it/s]/usr/local/lib/python3.6/dist-packages/torch/nn/functional.py:1351: UserWarning: nn.functional.sigmoid is deprecated. Use torch.sigmoid instead.\n",
            "  warnings.warn(\"nn.functional.sigmoid is deprecated. Use torch.sigmoid instead.\")\n",
            "100%|██████████| 200/200 [00:00<00:00, 302.24it/s]\n"
          ],
          "name": "stderr"
        },
        {
          "output_type": "stream",
          "text": [
            "Final Loss : tensor(4.5977e-05, grad_fn=<MseLossBackward>)\n"
          ],
          "name": "stdout"
        },
        {
          "output_type": "display_data",
          "data": {
            "image/png": "[encoded data removed]",
            "text/plain": [
              "<Figure size 432x288 with 1 Axes>"
            ]
          },
          "metadata": {
            "tags": []
          }
        }
      ]
    },
    {
      "cell_type": "code",
      "metadata": {
        "id": "AYJkZBpiMHeJ",
        "colab_type": "code",
        "colab": {}
      },
      "source": [
        "7.7047e-05"
      ],
      "execution_count": 0,
      "outputs": []
    },
    {
      "cell_type": "code",
      "metadata": {
        "id": "rmHfoUTL6IJC",
        "colab_type": "code",
        "outputId": "998df719-3e5c-4ac4-ee93-4eaccd0864f5",
        "colab": {
          "base_uri": "https://localhost:8080/",
          "height": 51
        }
      },
      "source": [
        "# The network has been trained now. Time to predict with grad updates!\n",
        "with torch.no_grad():\n",
        "    for data in trainSet:\n",
        "        x, y = data\n",
        "        testOutput = net(x.view(-1, TOTAL_PIXELS))\n",
        "\n",
        "testOutput = output.view(20, 20)\n",
        "testOutput = testOutput.detach().numpy()*255"
      ],
      "execution_count": 128,
      "outputs": [
        {
          "output_type": "stream",
          "text": [
            "/usr/local/lib/python3.6/dist-packages/torch/nn/functional.py:1351: UserWarning: nn.functional.sigmoid is deprecated. Use torch.sigmoid instead.\n",
            "  warnings.warn(\"nn.functional.sigmoid is deprecated. Use torch.sigmoid instead.\")\n"
          ],
          "name": "stderr"
        }
      ]
    },
    {
      "cell_type": "code",
      "metadata": {
        "id": "BKfmR_as0NNF",
        "colab_type": "code",
        "outputId": "0dbb8757-dc67-435d-9ba9-a751d1ff80b2",
        "colab": {
          "base_uri": "https://localhost:8080/",
          "height": 275
        }
      },
      "source": [
        "# Converting the tensor into numpy array and reshaping from VECTOR to 2D MATRIX\n",
        "outputImage = output.view(HEIGHT, WIDTH)\n",
        "outputImage = outputImage.detach().numpy()*255\n",
        "\n",
        "plt.figure(figsize=(16, 16))\n",
        "\n",
        "plt.subplot(1, 4, 1)\n",
        "plt.title('Train output Image')\n",
        "plt.imshow(outputImage)\n",
        "\n",
        "plt.subplot(1, 4, 2)\n",
        "plt.title('Test output Image')\n",
        "plt.imshow(testOutput)\n",
        "\n",
        "plt.subplot(1, 4, 3)\n",
        "plt.title('Original Image')\n",
        "plt.imshow(inImg)\n",
        "\n",
        "differenceImage = np.abs(inImg-testOutput)\n",
        "plt.subplot(1, 4, 4)\n",
        "plt.title('Difference')\n",
        "plt.imshow(differenceImage)"
      ],
      "execution_count": 129,
      "outputs": [
        {
          "output_type": "execute_result",
          "data": {
            "text/plain": [
              "<matplotlib.image.AxesImage at 0x7f18c3d079e8>"
            ]
          },
          "metadata": {
            "tags": []
          },
          "execution_count": 129
        },
        {
          "output_type": "display_data",
          "data": {
            "image/png": "[encoded data removed]",
            "text/plain": [
              "<Figure size 1152x1152 with 4 Axes>"
            ]
          },
          "metadata": {
            "tags": []
          }
        }
      ]
    },
    {
      "cell_type": "code",
      "metadata": {
        "id": "3QiUKt1a3ndd",
        "colab_type": "code",
        "colab": {}
      },
      "source": [
        "# np.save('/content/drive/My Drive/Colab Notebooks/encryption/output_images.npy', outputs)\n",
        "# np.save('/content/drive/My Drive/Colab Notebooks/encryption/loss_log.npy', loss_log[:130])"
      ],
      "execution_count": 0,
      "outputs": []
    },
    {
      "cell_type": "code",
      "metadata": {
        "id": "NpQgd0Bb7pkM",
        "colab_type": "code",
        "colab": {}
      },
      "source": [
        "model_state = {\n",
        "    'epoch': 200,\n",
        "    'loss_type' : 'mse_loss',\n",
        "    'loss_log' : loss_log,\n",
        "    'output_images' : outputs,\n",
        "    'state_dict': net.state_dict(),\n",
        "    'optimizer': optimizer.state_dict(),\n",
        "}"
      ],
      "execution_count": 0,
      "outputs": []
    },
    {
      "cell_type": "code",
      "metadata": {
        "colab_type": "code",
        "id": "78lNBOv8_jSe",
        "colab": {}
      },
      "source": [
        "torch.save(model_state, f'/content/drive/My Drive/Colab Notebooks/encryption/model_state_{int(time.time())}_{loss_log[-1]}')"
      ],
      "execution_count": 0,
      "outputs": []
    },
    {
      "cell_type": "code",
      "metadata": {
        "id": "TKndQMTb_Buj",
        "colab_type": "code",
        "colab": {}
      },
      "source": [
        "'''\n",
        "LOGS:\n",
        "\n",
        "      Loss      |      Remarks\n",
        "-------------------------------------------------\n",
        "mse_loss       --> ? (worse than smooth_L1_loss)\n",
        "smooth_l1_loss --> 0.0682 [learning_rate = 0.001]\n",
        "kl_div         --> super bad\n",
        "binary_cross_entropy_with_logits --> 0.6199\n",
        "hinge_embedding_loss --> 1.0\n",
        "l1_loss --> 0.2348\n",
        "\n",
        "BEST SO FAR = smooth_l1_loss > l1_loss\n",
        "'''"
      ],
      "execution_count": 0,
      "outputs": []
    }
  ]
}