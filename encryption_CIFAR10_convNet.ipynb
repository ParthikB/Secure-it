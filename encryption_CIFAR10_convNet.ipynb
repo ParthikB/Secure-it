{
  "nbformat": 4,
  "nbformat_minor": 0,
  "metadata": {
    "kernelspec": {
      "name": "python3",
      "display_name": "Python 3"
    },
    "language_info": {
      "codemirror_mode": {
        "name": "ipython",
        "version": 3
      },
      "file_extension": ".py",
      "mimetype": "text/x-python",
      "name": "python",
      "nbconvert_exporter": "python",
      "pygments_lexer": "ipython3",
      "version": "3.7.5"
    },
    "colab": {
      "name": "encryption-CIFAR100",
      "provenance": [],
      "collapsed_sections": [],
      "include_colab_link": true
    },
    "accelerator": "GPU"
  },
  "cells": [
    {
      "cell_type": "markdown",
      "metadata": {
        "id": "view-in-github",
        "colab_type": "text"
      },
      "source": [
        "<a href=\"https://colab.research.google.com/github/ParthikB/encryption/blob/master/encryption_CIFAR10_convNet.ipynb\" target=\"_parent\"><img src=\"https://colab.research.google.com/assets/colab-badge.svg\" alt=\"Open In Colab\"/></a>"
      ]
    },
    {
      "cell_type": "code",
      "metadata": {
        "id": "tGzlLgp2bRxG",
        "colab_type": "code",
        "outputId": "213562be-5966-4dc7-c647-72e8a1ceb515",
        "colab": {
          "base_uri": "https://localhost:8080/",
          "height": 34
        }
      },
      "source": [
        "import torch\n",
        "import torchvision\n",
        "from torchvision import transforms, datasets\n",
        "import torch.nn as nn\n",
        "import torch.nn.functional as F\n",
        "import torch.optim as optim\n",
        "\n",
        "import numpy as np\n",
        "from tqdm import tqdm\n",
        "import matplotlib.pyplot as plt\n",
        "import time\n",
        "from google.colab.patches import cv2_imshow\n",
        "import cv2\n",
        "\n",
        "\n",
        "if torch.cuda.is_available():\n",
        "  device = torch.device('cuda:0')\n",
        "  running = 'GPU'\n",
        "else:\n",
        "  device = torch.device('cpu')\n",
        "  running = 'CPU'\n",
        "print(f'Running on : {running}')"
      ],
      "execution_count": 1,
      "outputs": [
        {
          "output_type": "stream",
          "text": [
            "Running on : GPU\n"
          ],
          "name": "stdout"
        }
      ]
    },
    {
      "cell_type": "markdown",
      "metadata": {
        "id": "S6uqFasbbRxL",
        "colab_type": "text"
      },
      "source": [
        "### Grabbing the Data"
      ]
    },
    {
      "cell_type": "code",
      "metadata": {
        "id": "wCDty-_hbRxM",
        "colab_type": "code",
        "outputId": "634ce1d4-deea-4e4e-85ad-5048c77b5eee",
        "colab": {
          "base_uri": "https://localhost:8080/",
          "height": 85
        }
      },
      "source": [
        "train = datasets.CIFAR10('/content/CIFAR100', train=True, download=True,\n",
        "                      transform=transforms.Compose([transforms.ToTensor()]))\n",
        "\n",
        "test  = datasets.CIFAR10('/content/CIFAR100', train=False, download=True,\n",
        "                      transform=transforms.Compose([transforms.ToTensor()]))"
      ],
      "execution_count": 2,
      "outputs": [
        {
          "output_type": "stream",
          "text": [
            "\r0it [00:00, ?it/s]"
          ],
          "name": "stderr"
        },
        {
          "output_type": "stream",
          "text": [
            "Downloading https://www.cs.toronto.edu/~kriz/cifar-10-python.tar.gz to /content/CIFAR100/cifar-10-python.tar.gz\n"
          ],
          "name": "stdout"
        },
        {
          "output_type": "stream",
          "text": [
            "170500096it [00:06, 25226331.36it/s]                               \n"
          ],
          "name": "stderr"
        },
        {
          "output_type": "stream",
          "text": [
            "Extracting /content/CIFAR100/cifar-10-python.tar.gz to /content/CIFAR100\n",
            "Files already downloaded and verified\n"
          ],
          "name": "stdout"
        }
      ]
    },
    {
      "cell_type": "markdown",
      "metadata": {
        "id": "IZJw796EbRxP",
        "colab_type": "text"
      },
      "source": [
        "## Creating the Dataset Tensor"
      ]
    },
    {
      "cell_type": "code",
      "metadata": {
        "id": "F8rmkEOYbRxQ",
        "colab_type": "code",
        "colab": {}
      },
      "source": [
        "BATCH_SIZE = 16\n",
        "HEIGHT, WIDTH, CHANNELS = 32, 32, 3\n",
        "TOTAL_PIXELS = HEIGHT*WIDTH*CHANNELS\n",
        "\n",
        "trainSet = torch.utils.data.DataLoader(train, batch_size=BATCH_SIZE, shuffle=True)\n",
        "testSet  = torch.utils.data.DataLoader(test,  batch_size=BATCH_SIZE, shuffle=True)"
      ],
      "execution_count": 0,
      "outputs": []
    },
    {
      "cell_type": "markdown",
      "metadata": {
        "id": "dvxkniYIbRxT",
        "colab_type": "text"
      },
      "source": [
        "#### Viewing one Sample"
      ]
    },
    {
      "cell_type": "code",
      "metadata": {
        "id": "anjzu7XMbRxT",
        "colab_type": "code",
        "outputId": "96db3322-ff85-4191-df12-7da6599253a7",
        "colab": {
          "base_uri": "https://localhost:8080/",
          "height": 283
        }
      },
      "source": [
        "i = np.random.randint(BATCH_SIZE) # a random sample from the first batch\n",
        "for data in trainSet:\n",
        "    # data --> one batch containing BATCH_SIZE samples\n",
        "    x, y = data[0][i].numpy(), data[1][i]\n",
        "\n",
        "image = np.rollaxis(x, 0, 3)\n",
        "\n",
        "plt.imshow(image) # Reshaping x from (1, Height, Width) --> (Height, Width)"
      ],
      "execution_count": 4,
      "outputs": [
        {
          "output_type": "execute_result",
          "data": {
            "text/plain": [
              "<matplotlib.image.AxesImage at 0x7f09ab7232e8>"
            ]
          },
          "metadata": {
            "tags": []
          },
          "execution_count": 4
        },
        {
          "output_type": "display_data",
          "data": {
            "image/png": "[encoded data removed]",
            "text/plain": [
              "<Figure size 432x288 with 1 Axes>"
            ]
          },
          "metadata": {
            "tags": []
          }
        }
      ]
    },
    {
      "cell_type": "markdown",
      "metadata": {
        "id": "NlzMrR2abRxa",
        "colab_type": "text"
      },
      "source": [
        "## Creating the Network Structure"
      ]
    },
    {
      "cell_type": "code",
      "metadata": {
        "id": "DQofOoyhbRxb",
        "colab_type": "code",
        "outputId": "41f66665-88db-4506-b21f-50cf43241204",
        "colab": {
          "base_uri": "https://localhost:8080/",
          "height": 119
        }
      },
      "source": [
        "ENCRYPTED_DIM  = 32\n",
        "ENCRYPTED_SIZE = ENCRYPTED_DIM * ENCRYPTED_DIM * CHANNELS\n",
        "LAST_LAYER_INPUT_SIZE = ENCRYPTED_SIZE\n",
        "\n",
        "class Net(nn.Module):\n",
        "    \n",
        "    def __init__(self):\n",
        "        super().__init__()\n",
        "        \n",
        "        self.fc1 = nn.Linear(TOTAL_PIXELS   , ENCRYPTED_SIZE)\n",
        "        self.fc2 = nn.Linear(ENCRYPTED_SIZE , ENCRYPTED_SIZE)\n",
        "\n",
        "        self.fc3 = nn.Linear(ENCRYPTED_SIZE , ENCRYPTED_SIZE)\n",
        "\n",
        "        self.fc4 = nn.Linear(ENCRYPTED_SIZE , ENCRYPTED_SIZE)        \n",
        "        self.fc5 = nn.Linear(ENCRYPTED_SIZE , TOTAL_PIXELS)        \n",
        "    \n",
        "    def forward(self, x):\n",
        "        x = F.relu(self.fc1(x))\n",
        "        x = F.relu(self.fc2(x))        \n",
        "        x3 = F.relu(self.fc3(x))\n",
        "        x = F.relu(self.fc4(x3))        \n",
        "        x = F.sigmoid(self.fc5(x))        \n",
        "\n",
        "        \n",
        "        return x, x3\n",
        "\n",
        "print(f'''\n",
        "ENCRYPTED_DIM         = {ENCRYPTED_DIM}\n",
        "ENCRYPTED_SIZE        = {ENCRYPTED_SIZE}\n",
        "LAST_LAYER_INPUT_SIZE = {LAST_LAYER_INPUT_SIZE}\n",
        "TOTAL_PIXELS          = {TOTAL_PIXELS}\n",
        "''')"
      ],
      "execution_count": 0,
      "outputs": [
        {
          "output_type": "stream",
          "text": [
            "\n",
            "ENCRYPTED_DIM         = 32\n",
            "ENCRYPTED_SIZE        = 3072\n",
            "LAST_LAYER_INPUT_SIZE = 3072\n",
            "TOTAL_PIXELS          = 3072\n",
            "\n"
          ],
          "name": "stdout"
        }
      ]
    },
    {
      "cell_type": "code",
      "metadata": {
        "id": "eplW27v3ZX7-",
        "colab_type": "code",
        "colab": {
          "base_uri": "https://localhost:8080/",
          "height": 119
        },
        "outputId": "e35c8ef2-8d51-4dd8-835b-da6c5031c589"
      },
      "source": [
        "ENCRYPTED_DIM  = 32\n",
        "ENCRYPTED_SIZE = ENCRYPTED_DIM * ENCRYPTED_DIM * CHANNELS\n",
        "LAST_LAYER_INPUT_SIZE = ENCRYPTED_SIZE\n",
        "\n",
        "class Net(nn.Module):\n",
        "  def __init__(self):\n",
        "    super().__init__()\n",
        "\n",
        "    '''\n",
        "    Network Structure:\n",
        "\n",
        "    input > \n",
        "    (1)Conv2D > (2)MaxPool2D > \n",
        "    (3)Conv2D > (4)MaxPool2D > \n",
        "    (5)Conv2D > (6)MaxPool2D > \n",
        "    (7)Linear > (8)LinearOut\n",
        "\n",
        "    '''\n",
        "\n",
        "    # Creating the convulutional Layers\n",
        "    self.conv1 = nn.Conv2d(in_channels=CHANNELS, out_channels=32,  kernel_size=3)\n",
        "    self.conv2 = nn.Conv2d(in_channels=32,       out_channels=64,  kernel_size=3)\n",
        "    # self.conv3 = nn.Conv2d(in_channels=64,       out_channels=128, kernel_size=3)\n",
        "\n",
        "    self.flatten = None\n",
        "    # Creating a Random dummy sample to get the Flattened Dimensions\n",
        "    x = torch.randn(CHANNELS, HEIGHT, WIDTH).view(-1, CHANNELS, HEIGHT, WIDTH)\n",
        "    x = self.convs(x)\n",
        "\n",
        "    # Creating the Linear Layers\n",
        "    self.fc1   = nn.Linear(self.flatten, TOTAL_PIXELS)\n",
        "    self.fc2   = nn.Linear(TOTAL_PIXELS, TOTAL_PIXELS)\n",
        "\n",
        "  def convs(self, x):\n",
        "\n",
        "    # Creating the MaxPooling Layers\n",
        "    x = F.relu(self.conv1(x))\n",
        "    x = F.relu(self.conv2(x))\n",
        "    # x = F.relu(self.conv3(x))\n",
        "    # x = F.max_pool2d(F.relu(self.conv1(x)), kernel_size=(2, 2))\n",
        "    # x = F.max_pool2d(F.relu(self.conv2(x)), kernel_size=(2, 2))\n",
        "    # x = F.max_pool2d(F.relu(self.conv3(x)), kernel_size=(2, 2))\n",
        "\n",
        "\n",
        "    if not self.flatten:\n",
        "      self.flatten = x[0].shape[0] * x[0].shape[1] * x[0].shape[2]\n",
        "    return x\n",
        "\n",
        "  # FORWARD PASS\n",
        "  def forward(self, x):\n",
        "    x = self.convs(x)\n",
        "    x = x.view(-1, self.flatten)\n",
        "    x2 = F.sigmoid(self.fc1(x))\n",
        "    x = F.sigmoid(self.fc2(x2))\n",
        "    return x, x2\n",
        "\n",
        "print(f'''\n",
        "ENCRYPTED_DIM         = {ENCRYPTED_DIM}\n",
        "ENCRYPTED_SIZE        = {ENCRYPTED_SIZE}\n",
        "LAST_LAYER_INPUT_SIZE = {LAST_LAYER_INPUT_SIZE}\n",
        "TOTAL_PIXELS          = {TOTAL_PIXELS}\n",
        "''')"
      ],
      "execution_count": 6,
      "outputs": [
        {
          "output_type": "stream",
          "text": [
            "\n",
            "ENCRYPTED_DIM         = 32\n",
            "ENCRYPTED_SIZE        = 3072\n",
            "LAST_LAYER_INPUT_SIZE = 3072\n",
            "TOTAL_PIXELS          = 3072\n",
            "\n"
          ],
          "name": "stdout"
        }
      ]
    },
    {
      "cell_type": "markdown",
      "metadata": {
        "id": "sz68pQVY85dY",
        "colab_type": "text"
      },
      "source": [
        "## Load Pretrained Model"
      ]
    },
    {
      "cell_type": "code",
      "metadata": {
        "id": "lbfltVGA-EEF",
        "colab_type": "code",
        "colab": {}
      },
      "source": [
        "from google.colab import drive\n",
        "drive.mount('/content/drive')"
      ],
      "execution_count": 0,
      "outputs": []
    },
    {
      "cell_type": "code",
      "metadata": {
        "id": "ionXl_SI9Cy0",
        "colab_type": "code",
        "colab": {}
      },
      "source": [
        "# Defining the Network and Optimizer base\n",
        "net = Net().to(device)\n",
        "optimizer = optim.Adam(net.parameters(), lr=0.001)\n",
        "\n",
        "# Loading the model file\n",
        "model_state_path = '/content/drive/My Drive/Colab Notebooks/encryption/CIFAR100_model_state_1575276767__0.0138238'\n",
        "model_state = torch.load(model_state_path)\n",
        "\n",
        "# Transferring the Model States to respective variables\n",
        "net.load_state_dict(model_state['state_dict'])\n",
        "optimizer.load_state_dict(model_state['optimizer'])\n",
        "loss_log = model_state['loss_log']\n",
        "\n",
        "# Plotting the Loss\n",
        "plt.plot(loss_log)\n",
        "plt.title(f'Loss | Min = {loss_log[-1].item()}')\n",
        "plt.grid(1)\n",
        "\n",
        "print('Model Loaded!')"
      ],
      "execution_count": 0,
      "outputs": []
    },
    {
      "cell_type": "markdown",
      "metadata": {
        "id": "i_IXXR_2bRxd",
        "colab_type": "text"
      },
      "source": [
        "## Training the Network"
      ]
    },
    {
      "cell_type": "code",
      "metadata": {
        "id": "g-4f9BjHbRxe",
        "colab_type": "code",
        "outputId": "d20f5af7-4018-4ee0-a2ae-4474657e3c0a",
        "colab": {
          "base_uri": "https://localhost:8080/",
          "height": 778
        }
      },
      "source": [
        "CONTINUE_TRAINING = False\n",
        "LEARNING_RATE = 0.001 #1e-3\n",
        "EPOCHS        = 5\n",
        "\n",
        "if not CONTINUE_TRAINING:\n",
        "  net = Net().to(device)\n",
        "\n",
        "  # Define Optimizer\n",
        "  optimizer = optim.Adam(net.parameters(), lr=LEARNING_RATE)\n",
        "\n",
        "  loss_log = []\n",
        "\n",
        "# Iteration Begins\n",
        "for epoch in range(EPOCHS):\n",
        "    print() ; print();\n",
        "    print('EPOCH :', epoch+1)\n",
        "    if loss_log:\n",
        "      print('Current Loss :', loss_log[-1].item())\n",
        "    # Iterate over every sample in the batch\n",
        "    for data in tqdm(trainSet):\n",
        "        x, _ = data\n",
        "        net.zero_grad()\n",
        "        \n",
        "        #Compute the output\n",
        "        # output, layer2 = net(x.view(-1, TOTAL_PIXELS).to(device))  # Works in Fully Connected Linear Network\n",
        "        output, encryptedVector = net(x.view(-1, CHANNELS, HEIGHT, WIDTH).to(device)) # Works in ConvNet\n",
        "        \n",
        "        # Compute Loss\n",
        "        loss = F.smooth_l1_loss(output, x.view(-1, TOTAL_PIXELS).to(device))\n",
        "        loss_log.append(loss)\n",
        "        \n",
        "        # Backpropagate\n",
        "        loss.backward()\n",
        "        \n",
        "        # Update Parameters\n",
        "        optimizer.step()\n",
        "        \n",
        "\n",
        "plt.figure(figsize=(23, 5))\n",
        "plt.plot(loss_log)\n",
        "plt.title(f'Loss | Min = {loss_log[-1].item()}')\n",
        "plt.grid(1)"
      ],
      "execution_count": 7,
      "outputs": [
        {
          "output_type": "stream",
          "text": [
            "  0%|          | 0/3125 [00:00<?, ?it/s]/usr/local/lib/python3.6/dist-packages/torch/nn/functional.py:1351: UserWarning: nn.functional.sigmoid is deprecated. Use torch.sigmoid instead.\n",
            "  warnings.warn(\"nn.functional.sigmoid is deprecated. Use torch.sigmoid instead.\")\n",
            "  0%|          | 2/3125 [00:00<03:03, 17.03it/s]"
          ],
          "name": "stderr"
        },
        {
          "output_type": "stream",
          "text": [
            "\n",
            "\n",
            "EPOCH : 1\n"
          ],
          "name": "stdout"
        },
        {
          "output_type": "stream",
          "text": [
            "100%|██████████| 3125/3125 [01:52<00:00, 27.74it/s]\n",
            "  0%|          | 4/3125 [00:00<01:35, 32.62it/s]"
          ],
          "name": "stderr"
        },
        {
          "output_type": "stream",
          "text": [
            "\n",
            "\n",
            "EPOCH : 2\n",
            "Current Loss : 0.002220315160229802\n"
          ],
          "name": "stdout"
        },
        {
          "output_type": "stream",
          "text": [
            "100%|██████████| 3125/3125 [01:52<00:00, 27.77it/s]\n",
            "  0%|          | 4/3125 [00:00<01:34, 33.14it/s]"
          ],
          "name": "stderr"
        },
        {
          "output_type": "stream",
          "text": [
            "\n",
            "\n",
            "EPOCH : 3\n",
            "Current Loss : 0.0019288146868348122\n"
          ],
          "name": "stdout"
        },
        {
          "output_type": "stream",
          "text": [
            "100%|██████████| 3125/3125 [01:52<00:00, 27.75it/s]\n",
            "  0%|          | 4/3125 [00:00<01:34, 33.14it/s]"
          ],
          "name": "stderr"
        },
        {
          "output_type": "stream",
          "text": [
            "\n",
            "\n",
            "EPOCH : 4\n",
            "Current Loss : 0.001315502100624144\n"
          ],
          "name": "stdout"
        },
        {
          "output_type": "stream",
          "text": [
            "100%|██████████| 3125/3125 [01:52<00:00, 27.74it/s]\n",
            "  0%|          | 4/3125 [00:00<01:35, 32.84it/s]"
          ],
          "name": "stderr"
        },
        {
          "output_type": "stream",
          "text": [
            "\n",
            "\n",
            "EPOCH : 5\n",
            "Current Loss : 0.0011242657201364636\n"
          ],
          "name": "stdout"
        },
        {
          "output_type": "stream",
          "text": [
            "100%|██████████| 3125/3125 [01:52<00:00, 27.75it/s]\n"
          ],
          "name": "stderr"
        },
        {
          "output_type": "display_data",
          "data": {
            "image/png": "[encoded data removed]",
            "text/plain": [
              "<Figure size 1656x360 with 1 Axes>"
            ]
          },
          "metadata": {
            "tags": []
          }
        }
      ]
    },
    {
      "cell_type": "markdown",
      "metadata": {
        "id": "UPZdwqT0d1rM",
        "colab_type": "text"
      },
      "source": [
        "## Encryption Decryption"
      ]
    },
    {
      "cell_type": "code",
      "metadata": {
        "id": "syB85udVuXp2",
        "colab_type": "code",
        "colab": {}
      },
      "source": [
        "# Function to Convert Tensor into Numpy Image\n",
        "def convert_to_image(input, size=None, roll=False):\n",
        "  if roll == True: # Rolling from Vector to Matrix\n",
        "    input = input.view(CHANNELS, size, size)\n",
        "\n",
        "  # Moving the Channel axis from (C, H, W) -> (H, W, C)\n",
        "  img = np.rollaxis(input.numpy(), 0, 3)\n",
        "  return img"
      ],
      "execution_count": 0,
      "outputs": []
    },
    {
      "cell_type": "code",
      "metadata": {
        "id": "ZINip3UEe--t",
        "colab_type": "code",
        "outputId": "ab6cff62-58cf-47cd-859a-6d3cc8951e5d",
        "colab": {
          "base_uri": "https://localhost:8080/",
          "height": 675
        }
      },
      "source": [
        "# Selecting a random sample from the dataset\n",
        "random = np.random.randint(16)\n",
        "for data in trainSet:\n",
        "  # print(data)\n",
        "  sample, y = data[0][i], data[1][i]\n",
        "  break\n",
        "\n",
        "# Converting the sample into an Image to plot later.\n",
        "inputImage = convert_to_image(sample)\n",
        "\n",
        "# Passing the sample through the Network and also generating the ENCRYPTED VECTOR\n",
        "with torch.no_grad():\n",
        "  # networkOutput, encryptedImage = net(sample.view(-1, TOTAL_PIXELS).to(device))\n",
        "  networkOutput, encryptedImage = net(sample.view(-1, CHANNELS, HEIGHT, WIDTH).to(device))\n",
        "  # networkOutput = net(sample.view(-1, CHANNELS, HEIGHT, WIDTH).to(device))\n",
        "\n",
        "\n",
        "# Converting the networkOutput tensor into Image (numpy array)\n",
        "networkOutput  = networkOutput.cpu().detach()\n",
        "networkOutput  = convert_to_image(networkOutput, size=HEIGHT, roll=True)\n",
        "\n",
        "# Generating a random noise image to verify that ENCRYPTED VECTOR is just not random\n",
        "randomNoise = torch.rand(ENCRYPTED_DIM, ENCRYPTED_DIM, CHANNELS).to(device)\n",
        "\n",
        "\n",
        "# # DECRYPTING THE ENCRYPTED_VECTOR and NOISE\n",
        "with torch.no_grad():\n",
        "  # Passing the ENCRYPTED VECTOR through the required layers of the Network.\n",
        "  # decryptedImage = F.relu(net.fc4(encryptedImage.view(-1, ENCRYPTED_SIZE)))\n",
        "  decryptedImage = F.sigmoid(net.fc2(encryptedImage.view(-1, LAST_LAYER_INPUT_SIZE)))\n",
        "\n",
        "  # Passing the Random Noise Image through the required layers of the Network.\n",
        "  # randomNoiseDecrypted = F.relu(net.fc4(randomNoise.view(-1, ENCRYPTED_SIZE)))\n",
        "  randomNoiseDecrypted = F.sigmoid(net.fc2(randomNoise.view(-1, LAST_LAYER_INPUT_SIZE)))\n",
        "\n",
        "# # Converting the ENCRYPTED VECTOR into Image Format\n",
        "encryptedImage  = encryptedImage.cpu().detach()\n",
        "encryptedImage  = convert_to_image(encryptedImage, size=ENCRYPTED_DIM, roll=True)\n",
        "\n",
        "# Converting the DECRYPTED VECTOR into Image Format\n",
        "decryptedImage  = decryptedImage.cpu().detach()\n",
        "decryptedImage  = convert_to_image(decryptedImage, size=HEIGHT, roll=True)\n",
        "\n",
        "# Converting the Random Noise Decrypted Vector into Image Format\n",
        "randomNoiseDecrypted  = randomNoiseDecrypted.cpu().detach()\n",
        "randomNoiseDecrypted  = convert_to_image(randomNoiseDecrypted, size=HEIGHT, roll=True)\n",
        "\n",
        "\n",
        "# PLOTTING THE OUTPUTS\n",
        "plt.figure(figsize=(14, 10))\n",
        "\n",
        "plt.subplot(3, 4, 1)\n",
        "plt.imshow(inputImage)\n",
        "plt.title('Network Input')\n",
        "\n",
        "plt.subplot(3, 4, 2)\n",
        "plt.imshow(networkOutput)\n",
        "plt.title('Network Output')\n",
        "\n",
        "plt.subplot(3, 4, 5)\n",
        "plt.imshow(encryptedImage)\n",
        "plt.title('Encrypted Image')\n",
        "\n",
        "plt.subplot(3, 4, 6)\n",
        "plt.imshow(decryptedImage)\n",
        "plt.title('Decrypted Image')\n",
        "\n",
        "plt.subplot(3, 4, 9)\n",
        "plt.imshow(randomNoise.cpu())\n",
        "plt.title('Random Noise')\n",
        "\n",
        "plt.subplot(3, 4, 10)\n",
        "plt.imshow(randomNoiseDecrypted)\n",
        "plt.title('Decrypted Noise')\n",
        "\n",
        "# # The Original Gray Images\n",
        "# plt.subplot(3, 4, 3)\n",
        "# plt.imshow(sample, cmap='gray')\n",
        "# plt.title('Network Input')\n",
        "\n",
        "# plt.subplot(3, 4, 4)\n",
        "# plt.imshow(networkOutput, cmap='gray')\n",
        "# plt.title('Network Output')\n",
        "\n",
        "# plt.subplot(3, 4, 7)\n",
        "# plt.imshow(encryptedImage, cmap='gray')\n",
        "# plt.title('Encrypted Image')\n",
        "\n",
        "# plt.subplot(3, 4, 8)\n",
        "# plt.imshow(decryptedImage, cmap='gray')\n",
        "# plt.title('Decrypted Image')\n",
        "\n",
        "# plt.subplot(3, 4, 11)\n",
        "# plt.imshow(randomNoise, cmap='gray')\n",
        "# plt.title('Random Noise')\n",
        "\n",
        "# plt.subplot(3, 4, 12)\n",
        "# plt.imshow(randomNoiseDecrypted, cmap='gray')\n",
        "# plt.title('Decrypted Noise')\n",
        "\n",
        "print()\n",
        "print(\"Total Loss :\", loss_log[-1].item())"
      ],
      "execution_count": 13,
      "outputs": [
        {
          "output_type": "stream",
          "text": [
            "/usr/local/lib/python3.6/dist-packages/torch/nn/functional.py:1351: UserWarning: nn.functional.sigmoid is deprecated. Use torch.sigmoid instead.\n",
            "  warnings.warn(\"nn.functional.sigmoid is deprecated. Use torch.sigmoid instead.\")\n"
          ],
          "name": "stderr"
        },
        {
          "output_type": "stream",
          "text": [
            "\n",
            "Total Loss : 0.0009833521908149123\n"
          ],
          "name": "stdout"
        },
        {
          "output_type": "display_data",
          "data": {
            "image/png": "[encoded data removed]",
            "text/plain": [
              "<Figure size 1008x720 with 6 Axes>"
            ]
          },
          "metadata": {
            "tags": []
          }
        }
      ]
    },
    {
      "cell_type": "code",
      "metadata": {
        "id": "v8EhiJrjO2q_",
        "colab_type": "code",
        "colab": {
          "base_uri": "https://localhost:8080/",
          "height": 34
        },
        "outputId": "8577fe84-836f-42e8-bcad-b7c12e51c1b3"
      },
      "source": [
        "print('Difference between Network output and Decrypted Image :', np.sum(networkOutput - decryptedImage))"
      ],
      "execution_count": 14,
      "outputs": [
        {
          "output_type": "stream",
          "text": [
            "Difference between Network output and Decrypted Image : 0.0\n"
          ],
          "name": "stdout"
        }
      ]
    },
    {
      "cell_type": "code",
      "metadata": {
        "id": "6oIJmvaqIulk",
        "colab_type": "code",
        "outputId": "97604501-5bec-4a7c-da71-3ed4204a5635",
        "colab": {
          "base_uri": "https://localhost:8080/",
          "height": 34
        }
      },
      "source": [
        "SAVE_MODEL = True\n",
        "\n",
        "if SAVE_MODEL:\n",
        "\n",
        "  from google.colab import drive\n",
        "  drive.mount('/content/drive')\n",
        "\n",
        "  model_state = {\n",
        "      'dataset'   : 'CIFAR100_convNet',\n",
        "      'epochs'    : 5,\n",
        "      'loss_type' : 'smooth_l1_loss',\n",
        "      'loss_log'  : loss_log,\n",
        "      'state_dict': net.state_dict(),\n",
        "      'optimizer' : optimizer.state_dict(),\n",
        "  }\n",
        "\n",
        "  torch.save(model_state, f'/content/drive/My Drive/Colab Notebooks/encryption/' + model_state['dataset'] + f'_model_state_{int(time.time())}__{np.round(loss_log[-1].item(), 7)}')\n",
        "  print(f'Model [' + model_state['dataset'] + f'_model_state_{int(time.time())}__{np.round(loss_log[-1].item(), 7)}] saved successfully!')"
      ],
      "execution_count": 15,
      "outputs": [
        {
          "output_type": "stream",
          "text": [
            "Model [CIFAR100_convNet_model_state_1575332676__0.0009834] saved successfully!\n"
          ],
          "name": "stdout"
        }
      ]
    },
    {
      "cell_type": "markdown",
      "metadata": {
        "id": "iZc-rlH7_-l3",
        "colab_type": "text"
      },
      "source": [
        "# Accuracy Check (Not yet Implemeted)"
      ]
    },
    {
      "cell_type": "code",
      "metadata": {
        "id": "rmgww5ImAgdW",
        "colab_type": "code",
        "colab": {}
      },
      "source": [
        "BATCH_SIZE = 1\n",
        "\n",
        "trainSet = torch.utils.data.DataLoader(train, batch_size=BATCH_SIZE, shuffle=False)\n",
        "testSet  = torch.utils.data.DataLoader(test,  batch_size=BATCH_SIZE, shuffle=False)"
      ],
      "execution_count": 0,
      "outputs": []
    },
    {
      "cell_type": "code",
      "metadata": {
        "id": "oK_0R65jOCDC",
        "colab_type": "code",
        "outputId": "d966e97b-06df-4d43-e45d-75d069fc2f85",
        "colab": {
          "base_uri": "https://localhost:8080/",
          "height": 68
        }
      },
      "source": [
        "outputs = []\n",
        "\n",
        "with torch.no_grad():\n",
        "    for data in tqdm(trainSet):\n",
        "        x, y = data\n",
        "        # print(data)\n",
        "        # break\n",
        "        testOutput, encryptedImage = net(x.view(-1, TOTAL_PIXELS).to(device))\n",
        "\n",
        "        # Because Decrypted Image = testOutput. So, to save time, we'll just use the testOutput for verification.\n",
        "        outputs.append(testOutput.view(BATCH_SIZE, HEIGHT, WIDTH))"
      ],
      "execution_count": 0,
      "outputs": [
        {
          "output_type": "stream",
          "text": [
            "  0%|          | 0/60000 [00:00<?, ?it/s]/usr/local/lib/python3.6/dist-packages/torch/nn/functional.py:1351: UserWarning: nn.functional.sigmoid is deprecated. Use torch.sigmoid instead.\n",
            "  warnings.warn(\"nn.functional.sigmoid is deprecated. Use torch.sigmoid instead.\")\n",
            "100%|██████████| 60000/60000 [00:36<00:00, 1666.21it/s]\n"
          ],
          "name": "stderr"
        }
      ]
    },
    {
      "cell_type": "code",
      "metadata": {
        "id": "NIuOGTVoBEzw",
        "colab_type": "code",
        "colab": {}
      },
      "source": [
        "input_unrolled_size = TOTAL_PIXELS\n",
        "total_classes       = 10\n",
        "\n",
        "class Classifier_net(nn.Module):\n",
        "    \n",
        "    def __init__(self):\n",
        "        super().__init__()\n",
        "        \n",
        "        self.fc1 = nn.Linear(input_unrolled_size, 64)\n",
        "        self.fc2 = nn.Linear(64,    64)        \n",
        "        self.fc3 = nn.Linear(64,    64)        \n",
        "        self.fc4 = nn.Linear(64,    total_classes)        \n",
        "    \n",
        "    def forward(self, x):\n",
        "        x = F.relu(self.fc1(x))\n",
        "        x = F.relu(self.fc2(x))        \n",
        "        x = F.relu(self.fc3(x))        \n",
        "        x = F.log_softmax(self.fc4(x), dim=1)\n",
        "        \n",
        "        return x"
      ],
      "execution_count": 0,
      "outputs": []
    },
    {
      "cell_type": "markdown",
      "metadata": {
        "id": "oIlpIxRML8xc",
        "colab_type": "text"
      },
      "source": [
        "## Loading Pretrained Model"
      ]
    },
    {
      "cell_type": "code",
      "metadata": {
        "id": "2_zZWyG-LJcD",
        "colab_type": "code",
        "outputId": "44eb4512-8a49-471e-cf0b-6b8fb3b07caf",
        "colab": {
          "base_uri": "https://localhost:8080/",
          "height": 298
        }
      },
      "source": [
        "# Defining the Network and Optimizer base\n",
        "classifier_net = Classifier_net().to(device)\n",
        "optimizer = optim.Adam(classifier_net.parameters(), lr=0.001)\n",
        "\n",
        "# Loading the model file\n",
        "model_state_path = '/content/drive/My Drive/Colab Notebooks/encryption/classification_model'\n",
        "model_state = torch.load(model_state_path)\n",
        "\n",
        "# Transferring the Model States to respective variables\n",
        "classifier_net.load_state_dict(model_state['state_dict'])\n",
        "optimizer.load_state_dict(model_state['optimizer'])\n",
        "classifier_loss_log = model_state['loss_log']\n",
        "\n",
        "# Plotting the Loss\n",
        "plt.plot(classifier_loss_log)\n",
        "plt.title(f'Loss | Min = {classifier_loss_log[-1].item()}')\n",
        "plt.grid(1)\n",
        "\n",
        "print('Model Loaded!')"
      ],
      "execution_count": 0,
      "outputs": [
        {
          "output_type": "stream",
          "text": [
            "Model Loaded!\n"
          ],
          "name": "stdout"
        },
        {
          "output_type": "display_data",
          "data": {
            "image/png": "[encoded data removed]",
            "text/plain": [
              "<Figure size 432x288 with 1 Axes>"
            ]
          },
          "metadata": {
            "tags": []
          }
        }
      ]
    },
    {
      "cell_type": "markdown",
      "metadata": {
        "id": "0tHJFPD9AA83",
        "colab_type": "text"
      },
      "source": [
        "## Training the Network"
      ]
    },
    {
      "cell_type": "code",
      "metadata": {
        "id": "QVqP3wSPMIq7",
        "colab_type": "code",
        "outputId": "94bb51d0-5a23-4599-be8c-4a81ea85fcca",
        "colab": {
          "base_uri": "https://localhost:8080/",
          "height": 282
        }
      },
      "source": [
        "for data in zip(trainSet, outputs):\n",
        "  # data.append(torch.rand(28, 28))\n",
        "  # print(data)\n",
        "  break\n",
        "\n",
        "# plt.imshow(data[0][0].view(28,28))\n",
        "plt.imshow(data[1].view(28,28).cpu())\n",
        "print(data[0][1])"
      ],
      "execution_count": 0,
      "outputs": [
        {
          "output_type": "stream",
          "text": [
            "tensor([5])\n"
          ],
          "name": "stdout"
        },
        {
          "output_type": "display_data",
          "data": {
            "image/png": "[encoded data removed]",
            "text/plain": [
              "<Figure size 432x288 with 1 Axes>"
            ]
          },
          "metadata": {
            "tags": []
          }
        }
      ]
    },
    {
      "cell_type": "code",
      "metadata": {
        "id": "mO8JMAvxA3k4",
        "colab_type": "code",
        "outputId": "454c69be-d364-43b3-9bc2-80698632c52e",
        "colab": {
          "base_uri": "https://localhost:8080/",
          "height": 136
        }
      },
      "source": [
        "correct, total = 0, 0\n",
        "decrypted_correct, decrypted_total = 0, 0\n",
        "\n",
        "with torch.no_grad():\n",
        "    \n",
        "    # Train Accuracy\n",
        "    for data in tqdm(zip(trainSet, outputs)):\n",
        "        original, net_output = data\n",
        "        x, y = original\n",
        "        original_output  = classifier_net(x.view(-1, TOTAL_PIXELS).to(device))\n",
        "        decrypted_output = classifier_net(net_output.view(-1, TOTAL_PIXELS).to(device))\n",
        "        \n",
        "        for idx, i in enumerate(original_output):\n",
        "            if torch.argmax(i) == y[idx]:\n",
        "                correct += 1\n",
        "            total += 1\n",
        "        \n",
        "        for idx, i in enumerate(decrypted_output):\n",
        "            if torch.argmax(i) == y[idx]:\n",
        "                decrypted_correct += 1\n",
        "            decrypted_total += 1\n",
        "\n",
        "    trainAccuracy = round(correct/total *100, 2)\n",
        "    decrypted_trainAccuracy = round(decrypted_correct/decrypted_total *100, 2)\n",
        "    \n",
        "    # Test Accuracy\n",
        "    for data in tqdm(zip(testSet, outputs)):\n",
        "        original, net_output = data\n",
        "        x, y = original\n",
        "        original_output  = classifier_net(x.view(-1, TOTAL_PIXELS).to(device))\n",
        "        decrypted_output = classifier_net(net_output.view(-1, TOTAL_PIXELS).to(device))\n",
        "        \n",
        "        for idx, i in enumerate(original_output):\n",
        "            if torch.argmax(i) == y[idx]:\n",
        "                correct += 1\n",
        "            total += 1\n",
        "        \n",
        "        for idx, i in enumerate(decrypted_output):\n",
        "            if torch.argmax(i) == y[idx]:\n",
        "                decrypted_correct += 1\n",
        "            decrypted_total += 1\n",
        "\n",
        "    testAccuracy = round(correct/total *100, 2)\n",
        "    decrypted_testAccuracy = round(decrypted_correct/decrypted_total *100, 2)\n",
        "\n",
        "print()\n",
        "print('Train Accuracy           :', trainAccuracy, '%')\n",
        "print('Test Accuracy            :', testAccuracy, '%')\n",
        "print('Decrypted Train Accuracy :', decrypted_trainAccuracy, '%')\n",
        "print('Decrypted Test Accuracy  :', decrypted_testAccuracy, '%')"
      ],
      "execution_count": 0,
      "outputs": [
        {
          "output_type": "stream",
          "text": [
            "60000it [01:15, 789.92it/s]\n",
            "10000it [00:12, 797.19it/s]"
          ],
          "name": "stderr"
        },
        {
          "output_type": "stream",
          "text": [
            "\n",
            "Train Accuracy           : 96.68 %\n",
            "Test Accuracy            : 96.58 %\n",
            "Decrypted Train Accuracy : 96.4 %\n",
            "Decrypted Test Accuracy  : 84.05 %\n"
          ],
          "name": "stdout"
        },
        {
          "output_type": "stream",
          "text": [
            "\n"
          ],
          "name": "stderr"
        }
      ]
    }
  ]
}